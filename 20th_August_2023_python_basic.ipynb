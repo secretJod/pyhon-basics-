{
 "cells": [
  {
   "cell_type": "code",
   "execution_count": 3,
   "id": "6314730f-f69c-46a3-a68d-1f46d2fb2c22",
   "metadata": {},
   "outputs": [
    {
     "name": "stdout",
     "output_type": "stream",
     "text": [
      "input= PW Kills\n",
      "['P', 'W', ' ', 'K', 'i', 'l', 'l', 's']\n",
      "['s', 'l', 'l', 'i', 'K', ' ', 'W', 'P']\n",
      "output= slliK WP\n"
     ]
    }
   ],
   "source": [
    "# 1.Write a program to reverse a string.\n",
    "str1=\"PW Kills\"                    #creating varaible name as str1 which holds  string \"Pw skiils\"\n",
    "print(\"input=\",str1)\n",
    "b=list(str1)                       #converting string str1 in list and assigning it to b\n",
    "print(b)                           #printing list b\n",
    "b.reverse()                        #reversing list b by using reverse function\n",
    "print(b)                           #now printing reverse b list\n",
    "str2=\"\"                            #creating empty string\n",
    "for ele in b:                      #iterating elements present in b onr by one\n",
    "    str2+=ele                      # adding elements in str1(empty string)\n",
    "print(\"output=\",str2)              #printing str2 which is a reversed string of str1\n",
    "    "
   ]
  },
  {
   "cell_type": "code",
   "execution_count": 6,
   "id": "ffaccd1b-b7b0-4d0a-8fd6-7f5b10a5e85f",
   "metadata": {},
   "outputs": [
    {
     "name": "stdout",
     "output_type": "stream",
     "text": [
      "madam =entered string is palindrome\n"
     ]
    }
   ],
   "source": [
    "# 2.check if a string is palindrome.\n",
    "#creating varaible strg which hold string \"madam\" from the user\n",
    "strg=\"madam\"\n",
    "#for checking palindrome create another varaible strg2 and store the value of strg in strg 2 in reverse indexing order\n",
    "strg2=strg[::-1]                                     #using slicinf to get the reverse of string\n",
    "\n",
    "if strg==strg2:                                      #checking=if strg is equal to strg2 \n",
    "    print(strg,\"=entered string is palindrome\")      #if both varaible are equal then print \n",
    "else:\n",
    "    print(strg,\"=entered string is not palindrome\")  #if varaible are not equal then print\n"
   ]
  },
  {
   "cell_type": "code",
   "execution_count": 1,
   "id": "4b5ecce5-8631-4979-8c07-a575bb62b221",
   "metadata": {},
   "outputs": [
    {
     "name": "stdout",
     "output_type": "stream",
     "text": [
      "['a', 'b', 'c', 'd']\n",
      "ABCD\n"
     ]
    }
   ],
   "source": [
    "# 3. Convert a string to uppercase.\n",
    "lower_string=\"abcd\"\n",
    "upper_string=\"\"\n",
    "s=list(lower_string)\n",
    "print(s)\n",
    "for ele in s:\n",
    "    upper_string+=ele\n",
    "print(upper_string.upper())\n",
    "\n"
   ]
  },
  {
   "cell_type": "code",
   "execution_count": 2,
   "id": "8f1b70a9-05c9-4667-abd8-9e08c86ff786",
   "metadata": {},
   "outputs": [
    {
     "name": "stdout",
     "output_type": "stream",
     "text": [
      "i am learning from pw skills\n"
     ]
    }
   ],
   "source": [
    "# 4. Convert a string to lowercase.\n",
    "upper_string=\"I AM LEARNING FROM PW SKILLS\"\n",
    "lower_string=upper_string.lower()\n",
    "print(lower_string)"
   ]
  },
  {
   "cell_type": "code",
   "execution_count": 3,
   "id": "954e82f3-d5dc-43fa-9c77-49568ef4e891",
   "metadata": {},
   "outputs": [
    {
     "name": "stdout",
     "output_type": "stream",
     "text": [
      "9\n"
     ]
    }
   ],
   "source": [
    "# 5. Count the number of vowels in a string.\n",
    "a=\"PW IS a greaT plAtform to LeaRn \"\n",
    "v=\"aeiou\"\n",
    "c=0\n",
    "for char in a.lower():\n",
    "    if char in v:\n",
    "        c+=1\n",
    "print(c)\n"
   ]
  },
  {
   "cell_type": "code",
   "execution_count": 1,
   "id": "d5041174-e9b8-4f1c-90e7-cf666cdf82d3",
   "metadata": {},
   "outputs": [
    {
     "name": "stdout",
     "output_type": "stream",
     "text": [
      "33\n"
     ]
    }
   ],
   "source": [
    "# 6. Count the number of consonants in a string.\n",
    "st=\"PW Faculties Are VeRy briLliant ThEir teacHing style iS so UniQue\"\n",
    "a=\"bcdfghjklmnpqrstvwxyzBCDFGHJKLMNPQRSTVWXYZ\"\n",
    "c=0\n",
    "for char in st.lower() :\n",
    "    if char in a:\n",
    "        c+=1\n",
    "print(c)\n"
   ]
  },
  {
   "cell_type": "code",
   "execution_count": 2,
   "id": "0e4eb2d2-af08-418b-bb27-b82cab477707",
   "metadata": {},
   "outputs": [
    {
     "name": "stdout",
     "output_type": "stream",
     "text": [
      "PWFacultiesAreVeRybriLliantThEirteacHingstyleiSsoUniQue\n"
     ]
    }
   ],
   "source": [
    "# 7. Remove all whitespaces from a string.\n",
    "string=\"PW Faculties Are VeRy briLliant ThEir teacHing style iS so UniQue\"\n",
    "print(string.replace(\" \",\"\"))\n"
   ]
  },
  {
   "cell_type": "code",
   "execution_count": 3,
   "id": "053bf434-f0ba-407e-bf54-3b7ef39fe112",
   "metadata": {},
   "outputs": [
    {
     "name": "stdout",
     "output_type": "stream",
     "text": [
      "33\n"
     ]
    }
   ],
   "source": [
    "# 8. Find the length of a string without using the `len()` function.\n",
    "str1=\"looking for a Data Science course\"\n",
    "str2=list(str1)\n",
    "count=0\n",
    "for i in str2:\n",
    "    count+=1\n",
    "print(count)\n"
   ]
  },
  {
   "cell_type": "code",
   "execution_count": 5,
   "id": "fb5a8d5f-8d89-43a3-80ea-aa3e644844b0",
   "metadata": {},
   "outputs": [
    {
     "name": "stdout",
     "output_type": "stream",
     "text": [
      "yes the word is present in the string\n"
     ]
    }
   ],
   "source": [
    "\n",
    "# 9. Check if a string contains a specific word\n",
    "strn='''Its really a honor for me to learn\n",
    "from a teacher like sudhanshusir\n",
    " he is a best teacher i have ever seen'''\n",
    "target=\"sudhanshusir\"\n",
    "if target in strn:\n",
    "    print(\"yes the word is present in the string\")\n",
    "else:\n",
    "    print(\"no word like this is present in the string\")"
   ]
  },
  {
   "cell_type": "code",
   "execution_count": 6,
   "id": "d9036acf-d0fb-477a-a4e2-f856d876077a",
   "metadata": {},
   "outputs": [
    {
     "name": "stdout",
     "output_type": "stream",
     "text": [
      "Its really a honor for me to learn\n",
      "from a mentor like sudhanshusir\n",
      "he is the best mentor i have ever seen\n"
     ]
    }
   ],
   "source": [
    "\n",
    "# 10. Replace a word in a string with another word.\n",
    "strn='''Its really a honor for me to learn\n",
    "from a teacher like sudhanshusir\n",
    "he is the best teacher i have ever seen'''\n",
    "replace_word=\"mentor\"\n",
    "a=strn.replace(\"teacher\",replace_word)\n",
    "print(a)"
   ]
  },
  {
   "cell_type": "code",
   "execution_count": 8,
   "id": "6036fe3e-2328-4378-afcb-9068771ff3a0",
   "metadata": {},
   "outputs": [
    {
     "name": "stdout",
     "output_type": "stream",
     "text": [
      "8\n",
      "8\n"
     ]
    }
   ],
   "source": [
    "\n",
    "# 11. Count the occurrences of a word in a string.\n",
    "strl='''Teachers of Pw work very efficiently they take syllabus very strictly\n",
    "and their guidence is much better than any other learning platforms'''\n",
    "count=0\n",
    "for char in strl:\n",
    "    if char==\"a\":\n",
    "        count+=1\n",
    "print(count)\n",
    "\n",
    "count2=strl.count(\"a\")\n",
    "print(count2)"
   ]
  },
  {
   "cell_type": "code",
   "execution_count": 10,
   "id": "bbb2aceb-8756-4ac0-9d81-3ee8b23ed859",
   "metadata": {},
   "outputs": [
    {
     "name": "stdout",
     "output_type": "stream",
     "text": [
      "7\n"
     ]
    }
   ],
   "source": [
    "\n",
    "# 12. Find the first occurrence of a word in a string.\n",
    "str2=\"pw courses are so amazing \"\n",
    "print(str2.find(\"s\"))"
   ]
  },
  {
   "cell_type": "code",
   "execution_count": 1,
   "id": "0a67511f-c87d-484f-bacd-2205547fc31b",
   "metadata": {},
   "outputs": [
    {
     "name": "stdout",
     "output_type": "stream",
     "text": [
      "227\n"
     ]
    }
   ],
   "source": [
    "# 13. Find the last occurrence of a word in a string.\n",
    "strl='''looking for some great job so i can live my life that's why i \n",
    "enrolled the course of pw skills and my experience is so amazing it's going \n",
    "amazing and learning with having fun the faculties making everything so easy\n",
    "to understand we also having 24 hour doubt solving experts to\n",
    " resolve our querries '''\n",
    "f=strl.rfind(\"and\")\n",
    "print(f)"
   ]
  },
  {
   "cell_type": "code",
   "execution_count": 1,
   "id": "f25e0114-edec-4ea9-b9e7-17952d191106",
   "metadata": {},
   "outputs": [
    {
     "name": "stdout",
     "output_type": "stream",
     "text": [
      "['ineouron', 'and', 'pw', 'skills', 'are', 'the', 'best', 'platform', 'to', 'learn', 'about', 'it', 'field']\n"
     ]
    }
   ],
   "source": [
    "\n",
    "# 14. Split a string into a list of words.\n",
    "def split_word(text):\n",
    "    words=[]\n",
    "    word=\"\"\n",
    "    for char in text:\n",
    "        if char.isspace():\n",
    "            if word:\n",
    "                words.append(word)\n",
    "                word=\"\"\n",
    "        else:\n",
    "            word+=char\n",
    "    if word:\n",
    "        words.append(word)\n",
    "    return words\n",
    "\n",
    "text=\"ineouron and pw skills are the best platform to learn about it field\"\n",
    "a=split_word(text)\n",
    "print(a)"
   ]
  },
  {
   "cell_type": "code",
   "execution_count": 1,
   "id": "c6f6beee-5763-48c3-bbbf-135378c97d27",
   "metadata": {},
   "outputs": [
    {
     "name": "stdout",
     "output_type": "stream",
     "text": [
      "karan devansh harsh arun yash\n"
     ]
    }
   ],
   "source": [
    "# 15. Join a list of words into a string.\n",
    "\n",
    "\n",
    "str1=\"\"\n",
    "list1=['karan','devansh','harsh','arun','yash' ]\n",
    "a=len(list1)\n",
    "for i in range(a):\n",
    "    if i==a-1:\n",
    "        str1+=list1[i]\n",
    "    else:\n",
    "        str1=str1 + list1[i]+\" \"\n",
    "print(str1)\n"
   ]
  },
  {
   "cell_type": "code",
   "execution_count": 2,
   "id": "49a58aac-7918-426f-a9ad-e69e75ddb1b7",
   "metadata": {},
   "outputs": [
    {
     "name": "stdout",
     "output_type": "stream",
     "text": [
      "True\n",
      "yes string starts with specific word ='what'\n"
     ]
    }
   ],
   "source": [
    "# 17. Check if a string starts with a specific word or phrase.\n",
    "str1=\"what are you doing\"\n",
    "check=str1.find(\"w\")\n",
    "\n",
    "if str1.startswith(\"what\"):\n",
    "    print(True)\n",
    "print(\"yes string starts with specific word ='what'\")"
   ]
  },
  {
   "cell_type": "code",
   "execution_count": 2,
   "id": "bd4cb36d-29e4-4bc6-a814-b0d8e01b62b3",
   "metadata": {},
   "outputs": [
    {
     "name": "stdin",
     "output_type": "stream",
     "text": [
      "enter the phrase or word you have to check sir\n"
     ]
    },
    {
     "name": "stdout",
     "output_type": "stream",
     "text": [
      "True it's end with this specific character\n"
     ]
    }
   ],
   "source": [
    "# 18. Check if a string ends with a specific word or phrase.\n",
    "str1=\"hello ! this is karan and i am a student of sudhanshu sir\"\n",
    "n=input(\"enter the phrase or word you have to check\")\n",
    "if str1.endswith(n):\n",
    "    print(True,\"it's end with this specific character\")\n",
    "else:\n",
    "    print(False,\"it's not starting with specific character\")\n"
   ]
  },
  {
   "cell_type": "code",
   "execution_count": 6,
   "id": "1a462ce4-7b22-450f-a1b5-5e9d62f07f95",
   "metadata": {},
   "outputs": [
    {
     "name": "stdout",
     "output_type": "stream",
     "text": [
      "Hello World\n",
      "Robin Hood Army Serves Food To Poors\n"
     ]
    }
   ],
   "source": [
    "# 19. Convert a string to title case (e.g., \"hello world\" to \"Hello World\").\n",
    "\n",
    "def c(a):\n",
    "    words=a.split()\n",
    "    for i in range(len(words)):\n",
    "        words[i]=words[i].capitalize()\n",
    "    d=\" \".join(words)\n",
    "    return d\n",
    "\n",
    "\n",
    "a=\"hello world\"\n",
    "b=\"robin hood army serves food to poors\"\n",
    "print(c(a))\n",
    "print(c(b))\n"
   ]
  },
  {
   "cell_type": "code",
   "execution_count": 7,
   "id": "215f2cb0-7894-4722-814c-4b5252abec70",
   "metadata": {},
   "outputs": [
    {
     "name": "stdout",
     "output_type": "stream",
     "text": [
      "influeincing\n"
     ]
    }
   ],
   "source": [
    "# 20. Find the longest word in a string.\n",
    "def longest_word(str1):\n",
    "    words=str1.split()\n",
    "    longest_word=\"\"\n",
    "    max_len=0\n",
    "    for word in words:\n",
    "        word=word.strip('/{}[](),_.')\n",
    "        if len(word)>max_len:\n",
    "            longest_word=word\n",
    "            max_len=len(word) \n",
    "    return longest_word        \n",
    "str1=\"hey this is adam using whatsapp and insta to do social media influeincing\"\n",
    "print(longest_word(str1))\n",
    "\n"
   ]
  },
  {
   "cell_type": "code",
   "execution_count": 11,
   "id": "af83d096-b2af-45bb-bf09-c58884d3963d",
   "metadata": {},
   "outputs": [
    {
     "name": "stdout",
     "output_type": "stream",
     "text": [
      "we\n",
      "to\n"
     ]
    }
   ],
   "source": [
    "# 21. Find the shortest word in a string\n",
    "def shortest_word(str2):\n",
    "    words=str2.split()\n",
    "    shortest_word=None\n",
    "    shortest_len=float('inf')\n",
    "    for word in words:\n",
    "        word=word.strip('.,!?()[]{}\"\\'')\n",
    "        if len(word)<shortest_len:\n",
    "            shortest_word=word\n",
    "            shortest_len=len(word)\n",
    "    return  shortest_word\n",
    "\n",
    "str2=\"we should save environment global warming is increasing day by day\"\n",
    "str4=\"just want to check the shortest word in the string\"\n",
    "print(shortest_word(str2))\n",
    "print(shortest_word(str4))"
   ]
  },
  {
   "cell_type": "code",
   "execution_count": 12,
   "id": "3b5fc0e1-9fbb-4808-a0db-2c683ed08a9f",
   "metadata": {},
   "outputs": [
    {
     "name": "stdout",
     "output_type": "stream",
     "text": [
      "success to key the is studying\n"
     ]
    }
   ],
   "source": [
    "\n",
    "# 22. Reverse the order of words in a string.\n",
    "def reverse_order(str3):\n",
    "    words=str3.split()\n",
    "    reverse_word=words[::-1]\n",
    "    reversed_string=\" \".join(reverse_word)      \n",
    "    return reversed_string\n",
    "str3=\"studying is the key to success\"\n",
    "print(reverse_order(str3))"
   ]
  },
  {
   "cell_type": "code",
   "execution_count": 13,
   "id": "d248bf71-ba03-45d3-ba18-62217ae8379d",
   "metadata": {},
   "outputs": [
    {
     "name": "stdout",
     "output_type": "stream",
     "text": [
      "False\n",
      "False\n"
     ]
    }
   ],
   "source": [
    "# 23. Check if a string is alphanumeric.\n",
    "str4=\"lol their are 2  people in the boat an the boat is in the mid ocean \"\n",
    "if str4.isalnum():\n",
    "    print(True)\n",
    "else:\n",
    "    print(False)\n",
    "str5=\"karan 123 is my username\"\n",
    "if str5.isalnum():\n",
    "    print(True)\n",
    "else:\n",
    "    print(False)\n",
    "\n"
   ]
  },
  {
   "cell_type": "code",
   "execution_count": 17,
   "id": "13004bc9-1aea-4c21-ad4d-14a61826bf5b",
   "metadata": {},
   "outputs": [
    {
     "name": "stdout",
     "output_type": "stream",
     "text": [
      "True\n"
     ]
    }
   ],
   "source": [
    "\n",
    "# 23. Check if a string is alphanumeric.\n",
    "def is_alphanumeric(str2):\n",
    "    for char in str2:\n",
    "        if not(char.isalpha() or char.isdigit()):\n",
    "            return False\n",
    "        return True\n",
    "    \n",
    "\n",
    "str2=\"23karan123\" \n",
    "print(is_alphanumeric(str2))"
   ]
  },
  {
   "cell_type": "code",
   "execution_count": 18,
   "id": "8e36d737-2082-47de-af23-c90d595ceddc",
   "metadata": {},
   "outputs": [
    {
     "name": "stdout",
     "output_type": "stream",
     "text": [
      "I will reach there at  a clock will you come to \n",
      "meet me at pm i will wait for you come before pm\n",
      "['1', '2', '4', '7']\n"
     ]
    }
   ],
   "source": [
    "\n",
    "# 24. Extract all digits from a string.\n",
    "str1='''I will reach there at 12 a clock will you come to \n",
    "meet me at 4pm i will wait for you come before 7pm'''\n",
    "str2=\"\"\n",
    "digit_extracted=[]\n",
    "for char in str1:\n",
    "    if char>='0' and char<='9':\n",
    "        continue\n",
    "    else:\n",
    "        str2+=char\n",
    "\n",
    "\n",
    "for char in str1:\n",
    "    if char>='0' and char<='9':\n",
    "        digit_extracted.append(char)\n",
    "\n",
    "print(str2)\n",
    "print(digit_extracted)"
   ]
  },
  {
   "cell_type": "code",
   "execution_count": 1,
   "id": "df3ab096-d40c-47ac-ad15-c7d43f91d6cf",
   "metadata": {},
   "outputs": [
    {
     "name": "stdout",
     "output_type": "stream",
     "text": [
      "changemyuserfromkarantodevanshifitsnotsecuredthentrysuraj\n"
     ]
    }
   ],
   "source": [
    "# 25. Extract all alphabets from a string:\n",
    "str3=\"change my user from karan123 to devansh123 if it's not secured then try suraj123\"\n",
    "extracted_alpha=\"\"\n",
    "for alpha in str3:\n",
    "    if alpha>='a' and alpha<='z':\n",
    "        extracted_alpha+=alpha\n",
    "\n",
    "print(extracted_alpha)\n",
    "\n"
   ]
  },
  {
   "cell_type": "code",
   "execution_count": 4,
   "id": "1fe227c2-3163-425c-b08d-290c711ead21",
   "metadata": {},
   "outputs": [
    {
     "name": "stdout",
     "output_type": "stream",
     "text": [
      "8\n"
     ]
    }
   ],
   "source": [
    "# 26. Count the number of uppercase letters in a string.\n",
    "str2=\"Hello  Bro Are You Ready for becoming a SDE\"\n",
    "count=0\n",
    "for i in str2:\n",
    "    if i>='A' and i<='Z':\n",
    "        count+=1\n",
    "print(count)"
   ]
  },
  {
   "cell_type": "code",
   "execution_count": 5,
   "id": "994c65dd-8a71-4a36-9503-1565b99279b4",
   "metadata": {},
   "outputs": [
    {
     "name": "stdout",
     "output_type": "stream",
     "text": [
      "26\n"
     ]
    }
   ],
   "source": [
    "# 27. Count the number of lowercase letters in a string.\n",
    "str2=\"Hello  Bro Are You Ready for becoming a SDE\"\n",
    "count=0\n",
    "for i in str2:\n",
    "    if i>='a' and i<='z':\n",
    "        count+=1\n",
    "print(count)\n"
   ]
  },
  {
   "cell_type": "code",
   "execution_count": 6,
   "id": "c0d7c9f3-d6ef-44b0-93b9-feb47202221b",
   "metadata": {},
   "outputs": [
    {
     "name": "stdin",
     "output_type": "stream",
     "text": [
      "enter the string karandevansh\n"
     ]
    },
    {
     "name": "stdout",
     "output_type": "stream",
     "text": [
      "KARANDEVANSH\n"
     ]
    }
   ],
   "source": [
    "# 28. Swap the case of each character in a string.\n",
    "str1=input(\"enter the string\")\n",
    "swap_case=str1.swapcase()\n",
    "print(swap_case)\n"
   ]
  },
  {
   "cell_type": "code",
   "execution_count": 7,
   "id": "99072599-a9cc-46ba-a70c-e44e116c7e83",
   "metadata": {},
   "outputs": [
    {
     "name": "stdout",
     "output_type": "stream",
     "text": [
      "['hello', 'mam', 'karan', 'this', 'side', 'looking', 'fora', 'data', 'science', 'related', 'job']\n",
      "None\n"
     ]
    }
   ],
   "source": [
    "\n",
    "\n",
    "# 29. Remove a specific word from a string.\n",
    "str2=\"hello mam karan this side looking fora data science related job\"\n",
    "l1=str2.split()\n",
    "print(l1)\n",
    "print(l1.remove('job'))\n"
   ]
  },
  {
   "cell_type": "code",
   "execution_count": 8,
   "id": "6486454f-9b7f-4038-8c61-5bf57e0703cc",
   "metadata": {},
   "outputs": [
    {
     "name": "stdin",
     "output_type": "stream",
     "text": [
      "enter your email  devanshgenius@gmail.com\n"
     ]
    },
    {
     "name": "stdout",
     "output_type": "stream",
     "text": [
      "this email address is a valid user\n",
      "you have been logged in\n"
     ]
    }
   ],
   "source": [
    "#30. Check if a string is a valid email address.\n",
    "valid_email_address=\"devanshgenius@gmail.com\"  \n",
    "n=0\n",
    "while n<=3:\n",
    "    if valid_email_address==input(\"enter your email \"):\n",
    "        print(\"this email address is a valid user\")\n",
    "        print(\"you have been logged in\")\n",
    "        break\n",
    "    else:\n",
    "        print(\"plz check your email address again\")\n",
    "\n",
    "    n+=1\n",
    "if n>=3:    \n",
    "    print(\"your id is locked man plz try after some time\")\n"
   ]
  },
  {
   "cell_type": "code",
   "execution_count": 9,
   "id": "39f43405-1a61-46b0-88b5-34085603e8eb",
   "metadata": {},
   "outputs": [
    {
     "name": "stdout",
     "output_type": "stream",
     "text": [
      "karanupadhay\n"
     ]
    }
   ],
   "source": [
    "\n",
    "# 31. Extract the username from an email address string.\n",
    "email1=\"karanupadhay@gmail.com\"\n",
    "new = email1.split(\"@\")[0]\n",
    "print(new)\n",
    "\n"
   ]
  },
  {
   "cell_type": "code",
   "execution_count": 10,
   "id": "4f92020f-b38d-4d6c-aebc-1587adaeb2b0",
   "metadata": {},
   "outputs": [
    {
     "name": "stdout",
     "output_type": "stream",
     "text": [
      "gmail.com\n"
     ]
    }
   ],
   "source": [
    "# 32. Extract the domain name from an email address string.\n",
    "email1=\"karanupadhay@gmail.com\"\n",
    "new=email1.split(\"@\")[1]\n",
    "print(new)"
   ]
  },
  {
   "cell_type": "code",
   "execution_count": 11,
   "id": "89e0ef6f-4c29-411d-812b-4ac6a9ddbd4e",
   "metadata": {},
   "outputs": [
    {
     "name": "stdout",
     "output_type": "stream",
     "text": [
      "hello world this is karan !\n",
      "hello world this is karan ! \n"
     ]
    }
   ],
   "source": [
    "# 33. Replace multiple spaces in a string with a single space.\n",
    "import re\n",
    "string='''hello      world   this is      karan         ! '''\n",
    "string2=string.split()\n",
    "single_space_string=\" \".join(string2)\n",
    "print(single_space_string)\n",
    "#another approach is \n",
    "out_string=re.sub('\\s+',' ',string)\n",
    "print(out_string) \n"
   ]
  },
  {
   "cell_type": "code",
   "execution_count": 13,
   "id": "805b04e0-a2ba-4de7-af67-cc0cf5915e89",
   "metadata": {},
   "outputs": [
    {
     "name": "stdin",
     "output_type": "stream",
     "text": [
      "enter url http://www.ex.com\n"
     ]
    },
    {
     "name": "stdout",
     "output_type": "stream",
     "text": [
      "this url you is not a valid url\n"
     ]
    },
    {
     "name": "stdin",
     "output_type": "stream",
     "text": [
      "enter the url http://www.ex.com/\n"
     ]
    },
    {
     "name": "stdout",
     "output_type": "stream",
     "text": [
      "http://www.ex.com/ is a valid URL.\n"
     ]
    }
   ],
   "source": [
    "# 34. Check if a string is a valid URL.\n",
    "\n",
    "valid_url= \"http://www.example.com/index.html\"\n",
    "if valid_url==input(\"enter url\"):\n",
    "    print(\"this url you entered is valid\")\n",
    "else:\n",
    "    print(\"this url you is not a valid url\")\n",
    "#another approach is\n",
    "import re\n",
    "\n",
    "def is_valid_url(url):\n",
    "    # Define a regular expression pattern to match URLs.\n",
    "    url_pattern = re.compile(r'^(https?|ftp)://[^\\s/$.?#].[^\\s]*$')\n",
    "    \n",
    "    # Use the pattern to match the URL.\n",
    "    return bool(url_pattern.match(url))\n",
    "\n",
    "url = input(\"enter the url\")\n",
    "if is_valid_url(url):\n",
    "    print(f\"{url} is a valid URL.\")\n",
    "else:\n",
    "    print(f\"{url} is not a valid URL.\")\n"
   ]
  },
  {
   "cell_type": "code",
   "execution_count": 14,
   "id": "c2e36796-388a-4791-b6da-eea5c8f77c48",
   "metadata": {},
   "outputs": [
    {
     "name": "stdout",
     "output_type": "stream",
     "text": [
      "https\n",
      "The protocol of the URL is: https\n"
     ]
    }
   ],
   "source": [
    "# 35. Extract the protocol (http or https) from a URL string.?\n",
    "url=\"https://www.example.com\"\n",
    "new_url=url.split(\":\")[0]\n",
    "print(new_url)\n",
    "\n",
    "from urllib.parse import urlparse\n",
    "\n",
    "def extract_protocol(url):\n",
    "    parsed_url = urlparse(url)\n",
    "    return parsed_url.scheme  # The scheme attribute contains the protocol (http, https, etc.)\n",
    "\n",
    "# Example usage:\n",
    "url = \"https://www.example.com\"\n",
    "protocol = extract_protocol(url)\n",
    "print(f\"The protocol of the URL is: {protocol}\")\n",
    "\n"
   ]
  },
  {
   "cell_type": "code",
   "execution_count": 15,
   "id": "b8ba1b5e-2f75-4d40-83d3-95e4db98edc3",
   "metadata": {},
   "outputs": [
    {
     "name": "stdout",
     "output_type": "stream",
     "text": [
      "25\n",
      "Character: d, Frequency: 1\n"
     ]
    }
   ],
   "source": [
    "#36. Find the frequency of each character in a string.\n",
    "def freq(strl,a):\n",
    "    count=0\n",
    "    for i in strl:\n",
    "        if i==\"a\":\n",
    "            count+=1\n",
    "    return count\n",
    "string='''Fiction is something that is told or written that is not fact. The word fiction has been derived \n",
    "from Latin word “fictus” that means, “to form”. It could be any creative work of art chiefly any narrative \n",
    "works, portraying individuals, events, or places that are imaginary, or in ways that are imaginary.\n",
    "'''\n",
    "print(freq(string,\"s\"))\n",
    "\n",
    "\n",
    "#another apprach is \n",
    "def char_freq(input_string):\n",
    "    char_frequency={}\n",
    "    for char in input_string:\n",
    "        if char in char_frequency:\n",
    "            char_frequency[char]+=1\n",
    "    else:\n",
    "        char_frequency[char]=1\n",
    "    return char_frequency\n",
    "input_string=\"hello world\"\n",
    "result=(char_freq(input_string))\n",
    "for char,freq in result.items():\n",
    "     print(f\"Character: {char}, Frequency: {freq}\")\n"
   ]
  },
  {
   "cell_type": "code",
   "execution_count": 17,
   "id": "5f976803-54da-4c2f-bb6b-0f6352e75b4f",
   "metadata": {},
   "outputs": [
    {
     "name": "stdin",
     "output_type": "stream",
     "text": [
      "enter the string vsavd@sadbsadb$\n"
     ]
    },
    {
     "name": "stdout",
     "output_type": "stream",
     "text": [
      "vsavdsadbsadb\n"
     ]
    }
   ],
   "source": [
    "#37. Remove all punctuation from a string.\n",
    "def remove_punctuatuion(string):\n",
    "    punctuation_marks=''':@!#$%^&/{}[]()&*+-_=<>\".?,'''''\n",
    "    clean_string=\"\"\n",
    "    for char in string:\n",
    "        if char  not in punctuation_marks:\n",
    "            clean_string+=char\n",
    "    return clean_string\n",
    "\n",
    "inputstring=input(\"enter the string\")\n",
    "print(remove_punctuatuion(inputstring))\n",
    "\n"
   ]
  },
  {
   "cell_type": "code",
   "execution_count": 20,
   "id": "81f114b2-5be8-466e-8e96-3e4ff7e3fed0",
   "metadata": {},
   "outputs": [
    {
     "name": "stdin",
     "output_type": "stream",
     "text": [
      "enter the string to check 123\n"
     ]
    },
    {
     "name": "stdout",
     "output_type": "stream",
     "text": [
      "yes the string only contain digits\n",
      "123 only contain digits\n"
     ]
    }
   ],
   "source": [
    "\n",
    "# 38. Check if a string contains only digits.\n",
    "input_string=input(\"enter the string to check\")\n",
    "if input_string.isdigit():\n",
    "    print(\"yes the string only contain digits\")\n",
    "else:\n",
    "    print(\"no string does not containing only digits\")\n",
    "\n",
    "    \n",
    "    \n",
    "    \n",
    "#using function\n",
    "def check_string_digit(string):\n",
    "    return string.isdigit()\n",
    "if check_string_digit(input_string):\n",
    "    print(f'{input_string} only contain digits')\n",
    "else:\n",
    "    print(\"no string does not contain only digits\")\n",
    "\n"
   ]
  },
  {
   "cell_type": "code",
   "execution_count": 22,
   "id": "8403bc64-4c7a-46b8-8bae-f16e2252ecf6",
   "metadata": {},
   "outputs": [
    {
     "name": "stdin",
     "output_type": "stream",
     "text": [
      "enter the string karanupadhyay\n"
     ]
    },
    {
     "name": "stdout",
     "output_type": "stream",
     "text": [
      "yes the string only contain alphabets\n"
     ]
    }
   ],
   "source": [
    "#39. Check if a string contains only alphabets.\n",
    "def check_alphabet(string):\n",
    "    return string.isalpha()\n",
    "\n",
    "input_String=input(\"enter the string\")\n",
    "if check_alphabet(input_String):\n",
    "    print(\"yes the string only contain alphabets\")\n",
    "else:\n",
    "    print(\"your assumption is not right\")\n",
    "\n"
   ]
  },
  {
   "cell_type": "code",
   "execution_count": 23,
   "id": "d86a2810-2b95-4eb5-9f2e-89dfe46c0810",
   "metadata": {},
   "outputs": [
    {
     "name": "stdin",
     "output_type": "stream",
     "text": [
      "enter the string karan deepak upadhyay\n"
     ]
    },
    {
     "name": "stdout",
     "output_type": "stream",
     "text": [
      "['k', 'a', 'r', 'a', 'n', ' ', 'd', 'e', 'e', 'p', 'a', 'k', ' ', 'u', 'p', 'a', 'd', 'h', 'y', 'a', 'y']\n"
     ]
    }
   ],
   "source": [
    "\n",
    "#40. Convert a string to a list of characters.\n",
    "input_str=input(\"enter the string\")\n",
    "list_of_char=[]\n",
    "for char in input_str:\n",
    "    list_of_char.append(char)\n",
    "print(list_of_char)"
   ]
  },
  {
   "cell_type": "code",
   "execution_count": 24,
   "id": "7ad8361d-892a-450c-b6c3-1a621b66e582",
   "metadata": {},
   "outputs": [
    {
     "name": "stdout",
     "output_type": "stream",
     "text": [
      "True\n"
     ]
    }
   ],
   "source": [
    "# 41. Check if two strings are anagrams.\n",
    "def Are_anagrams(str1,str2):\n",
    "    str1=str1.replace(\" \",'').lower()\n",
    "    str2=str2.replace(\" \",'').lower()\n",
    "\n",
    "    if len(str1)!=len(str2):\n",
    "        return False\n",
    "    char_count1={}\n",
    "    char_count2={}\n",
    "\n",
    "    for char in str1:\n",
    "        if char in char_count1:\n",
    "            char_count1[char]+=1\n",
    "        else:\n",
    "            char_count1[char]=1\n",
    "\n",
    "    for char in str2:\n",
    "        if char in char_count2:\n",
    "            char_count2[char]+=1\n",
    "        else:\n",
    "            char_count2[char]=1\n",
    "    \n",
    "    return char_count1==char_count2\n",
    "\n",
    "\n",
    "str1=\"silent\"\n",
    "str2=\"listen\"\n",
    "result=Are_anagrams(str1,str2)\n",
    "print(result)\n"
   ]
  },
  {
   "cell_type": "code",
   "execution_count": 1,
   "id": "b28fa834-77fc-4190-a6ee-d326634ed125",
   "metadata": {},
   "outputs": [
    {
     "name": "stdout",
     "output_type": "stream",
     "text": [
      "Original: Hello, World!\n",
      "Encoded: Khoor, Zruog!\n"
     ]
    }
   ],
   "source": [
    "#42. Encode a string using a Caesar cipher.\n",
    "def caesar_cipher_encode(text, shift):\n",
    "    result = \"\"\n",
    "\n",
    "    for char in text:\n",
    "        if char.isalpha():\n",
    "            # Determine if the character is uppercase or lowercase\n",
    "            is_upper = char.isupper()\n",
    "            \n",
    "            # Shift the character and wrap around the alphabet\n",
    "            shifted_char = chr((ord(char) - ord('A' if is_upper else 'a') + shift) % 26 + ord('A' if is_upper else 'a'))\n",
    "            \n",
    "            result += shifted_char\n",
    "        else:\n",
    "            # If the character is not a letter, leave it unchanged\n",
    "            result += char\n",
    "\n",
    "    return result\n",
    "\n",
    "# Example usage:\n",
    "plaintext = \"Hello, World!\"\n",
    "shift = 3\n",
    "encoded_text = caesar_cipher_encode(plaintext, shift)\n",
    "\n",
    "print(f\"Original: {plaintext}\")\n",
    "print(f\"Encoded: {encoded_text}\")\n"
   ]
  },
  {
   "cell_type": "code",
   "execution_count": 3,
   "id": "e27b0dd3-cde9-4d64-b28a-05c2f015f2ed",
   "metadata": {},
   "outputs": [
    {
     "name": "stdout",
     "output_type": "stream",
     "text": [
      "Encoded: Khoor, Zruog!\n",
      "Decoded: Hello, World!\n"
     ]
    }
   ],
   "source": [
    "#43. Decode a Caesar cipher encoded string.\n",
    "def caesar_cipher_decode(text, shift):\n",
    "    # The decoding is essentially the same as encoding, but with a negative shift\n",
    "    return caesar_cipher_encode(text, -shift)\n",
    "\n",
    "# Example usage:\n",
    "encoded_text = \"Khoor, Zruog!\"\n",
    "shift = 3\n",
    "decoded_text = caesar_cipher_decode(encoded_text, shift)\n",
    "\n",
    "print(f\"Encoded: {encoded_text}\")\n",
    "print(f\"Decoded: {decoded_text}\")\n"
   ]
  },
  {
   "cell_type": "code",
   "execution_count": 25,
   "id": "9f56c02c-5a37-45e1-a7c6-4ac65de0b08b",
   "metadata": {},
   "outputs": [
    {
     "name": "stdout",
     "output_type": "stream",
     "text": [
      "The most frequent word is: this\n"
     ]
    }
   ],
   "source": [
    "# 44. Find the most frequent word in a string.\n",
    "def most_frequent_word(input_string):\n",
    "    # Convert the input string to lowercase to make the comparison case-insensitive\n",
    "    input_string = input_string.lower()\n",
    "\n",
    "    # Split the string into words\n",
    "    words = input_string.split()\n",
    "\n",
    "    # Initialize a dictionary to store word frequencies\n",
    "    word_frequency = {}\n",
    "\n",
    "    # Iterate through the words and count their frequencies\n",
    "    for word in words:\n",
    "        if word in word_frequency:\n",
    "            word_frequency[word] += 1\n",
    "        else:\n",
    "            word_frequency[word] = 1\n",
    "\n",
    "    # Find the word with the highest frequency\n",
    "    most_frequent = max(word_frequency, key=word_frequency.get)\n",
    "\n",
    "    return most_frequent\n",
    "\n",
    "# Input string\n",
    "input_string = \"This is a test. This test is a simple test.\"\n",
    "\n",
    "# Find the most frequent word\n",
    "result = most_frequent_word(input_string)\n",
    "\n",
    "# Print the most frequent word\n",
    "print(\"The most frequent word is:\", result)\n"
   ]
  },
  {
   "cell_type": "code",
   "execution_count": 27,
   "id": "e85f10c6-70ba-4cee-86c3-126d9dbf0d5e",
   "metadata": {},
   "outputs": [
    {
     "name": "stdin",
     "output_type": "stream",
     "text": [
      "enter the string Karan@gmaiL.CoM\n"
     ]
    },
    {
     "name": "stdout",
     "output_type": "stream",
     "text": [
      "{'karan@gmail.com'}\n"
     ]
    }
   ],
   "source": [
    "# 45. Find all unique words in a string.\n",
    "def unique_word(string):\n",
    "    string=string.lower()\n",
    "    words=string.split()\n",
    "    uniquewords=set(words)\n",
    "    return uniquewords\n",
    "\n",
    "string=input(\"enter the string\")\n",
    "print(unique_word(string))\n"
   ]
  },
  {
   "cell_type": "code",
   "execution_count": 56,
   "id": "1f66294a-9ab8-4d13-b32a-113d1a22227a",
   "metadata": {},
   "outputs": [
    {
     "name": "stdout",
     "output_type": "stream",
     "text": [
      "The word 'syllable' has 3 syllables.\n"
     ]
    }
   ],
   "source": [
    "# 46. Count the number of syllables in a string.\n",
    "def count_syllables(word):\n",
    "    vowels=\"aeiouyAEIOUY\"\n",
    "    count=0\n",
    "    in_syllable=False\n",
    "    for char in word:\n",
    "        if char in vowels:\n",
    "            if not in_syllable:\n",
    "                count+=1\n",
    "            in_syllable=True\n",
    "        else:\n",
    "            in_syllable=False\n",
    "    return count\n",
    "\n",
    "word = \"syllable\"\n",
    "syllable_count = count_syllables(word)\n",
    "\n",
    "print(f\"The word '{word}' has {syllable_count} syllables.\")"
   ]
  },
  {
   "cell_type": "code",
   "execution_count": 30,
   "id": "6b364796-8263-42d3-9e8c-745eb25f64b1",
   "metadata": {},
   "outputs": [
    {
     "name": "stdin",
     "output_type": "stream",
     "text": [
      "enter your string to check the special charater: {}-jdssdbfb+\n"
     ]
    },
    {
     "name": "stdout",
     "output_type": "stream",
     "text": [
      "yes the string contain the special character\n",
      "True\n"
     ]
    }
   ],
   "source": [
    "# 47. Check if a string contains any special characters.\n",
    "def special_char(string):\n",
    "    pattern=\"!@#$%%^&*()_-+={}[]:;''<>/?\\|\"\n",
    "    for char in string:\n",
    "        if char in pattern:\n",
    "            print(\"yes the string contain the special character\")\n",
    "            return True\n",
    "        else:\n",
    "            print(\"the string does not contain an special character\")\n",
    "            return False\n",
    "\n",
    "string=input(\"enter your string to check the special charater:\")\n",
    "print(special_char(string))\n",
    "\n"
   ]
  },
  {
   "cell_type": "code",
   "execution_count": 34,
   "id": "bb3a2162-0532-4dad-a73c-aee8aee81a46",
   "metadata": {},
   "outputs": [
    {
     "name": "stdin",
     "output_type": "stream",
     "text": [
      "enter your string karan is great\n",
      "enter the nth word  to remove from the list  g\n"
     ]
    },
    {
     "name": "stdout",
     "output_type": "stream",
     "text": [
      "['k', 'a', 'r', 'a', 'n', ' ', 'i', 's', ' ', 'r', 'e', 'a', 't']\n",
      "karan is reat\n"
     ]
    },
    {
     "name": "stdin",
     "output_type": "stream",
     "text": [
      "enter your string karan is great person\n",
      "enter word to remove from the string person\n"
     ]
    },
    {
     "name": "stdout",
     "output_type": "stream",
     "text": [
      "['karan', 'is', 'great']\n",
      "karan is great\n"
     ]
    }
   ],
   "source": [
    "# 48. Remove the nth word from a string.\n",
    "#this will remove alphabet\n",
    "a=input(\"enter your string\")\n",
    "b=list(a)\n",
    "n=input(\"enter the nth word  to remove from the list \")\n",
    "b.remove(n)\n",
    "print(b)\n",
    "e=''.join(b)\n",
    "print(e)\n",
    "#to remove nth word\n",
    "input_string=input(\"enter your string\")\n",
    "nth=input(\"enter word to remove from the string\")\n",
    "new=input_string.split()\n",
    "for elements in new:\n",
    "    if nth in elements:\n",
    "        new.remove(nth)\n",
    "        break\n",
    "print(new)\n",
    "string=' '.join(new)\n",
    "\n",
    "\n",
    "print(string)\n"
   ]
  },
  {
   "cell_type": "code",
   "execution_count": 35,
   "id": "c89b253d-f77a-4d37-b949-c060fdbb3f41",
   "metadata": {},
   "outputs": [
    {
     "name": "stdin",
     "output_type": "stream",
     "text": [
      "enter your string karan is a gem of a person\n",
      "enter the position to insert a word 3\n",
      "enter the word to insert karan god\n"
     ]
    },
    {
     "name": "stdout",
     "output_type": "stream",
     "text": [
      "karan is a karan god gem of a person\n"
     ]
    }
   ],
   "source": [
    "# 49. Insert a word at the nth position in a string.\n",
    "input_string=input(\"enter your string\")\n",
    "nth_postion=int(input(\"enter the position to insert a word\"))\n",
    "word=input(\"enter the word to insert\")\n",
    "new=input_string.split()\n",
    "new.insert(nth_postion,word)\n",
    "final_string= ' '.join(new)\n",
    "print(final_string)\n",
    "\n",
    "\n"
   ]
  },
  {
   "cell_type": "code",
   "execution_count": 4,
   "id": "06c4bd88-0827-4aa8-b3a4-9e5407740b27",
   "metadata": {},
   "outputs": [
    {
     "name": "stdout",
     "output_type": "stream",
     "text": [
      "['Name', 'Age', 'Occupation']\n",
      "['John', '25', 'Engineer']\n",
      "['Jane', '30', 'Doctor']\n",
      "['Bob', '22', 'Student']\n"
     ]
    }
   ],
   "source": [
    "#50. Convert a CSV string to a list of lists.\n",
    "import csv\n",
    "from io import StringIO\n",
    "\n",
    "def csv_string_to_list(csv_string):\n",
    "    # Use StringIO to create a file-like object from the CSV string\n",
    "    csv_file = StringIO(csv_string)\n",
    "    \n",
    "    # Use the csv.reader to read the CSV content into a list of lists\n",
    "    csv_reader = csv.reader(csv_file)\n",
    "    \n",
    "    # Convert the csv_reader object to a list of lists\n",
    "    list_of_lists = [row for row in csv_reader]\n",
    "    \n",
    "    return list_of_lists\n",
    "\n",
    "# Example usage:\n",
    "csv_string = \"Name,Age,Occupation\\nJohn,25,Engineer\\nJane,30,Doctor\\nBob,22,Student\"\n",
    "list_of_lists = csv_string_to_list(csv_string)\n",
    "\n",
    "# Print the result\n",
    "for row in list_of_lists:\n",
    "    print(row)\n"
   ]
  },
  {
   "cell_type": "markdown",
   "id": "db9ea9d9-0f4d-4db2-a8b5-0bcdf1c9e0af",
   "metadata": {},
   "source": [
    "List Based Practice Problem "
   ]
  },
  {
   "cell_type": "code",
   "execution_count": 36,
   "id": "c20f2e35-5e2e-4dd9-83a9-4d29f5ca5ed1",
   "metadata": {},
   "outputs": [
    {
     "name": "stdin",
     "output_type": "stream",
     "text": [
      "enter the number 10\n"
     ]
    },
    {
     "name": "stdout",
     "output_type": "stream",
     "text": [
      "[1, 2, 3, 4, 5, 6, 7, 8, 9, 10]\n"
     ]
    }
   ],
   "source": [
    "# 1. Create a list with integers from 1 to 10.\n",
    "l1=[]\n",
    "n=int(input(\"enter the number\"))\n",
    "for i in range(1,n+1):\n",
    "    if i>0 and i<n+1:\n",
    "        l1.append(i)\n",
    "print(l1)\n"
   ]
  },
  {
   "cell_type": "code",
   "execution_count": 37,
   "id": "0845d3eb-605f-4c76-b223-472f3a8b4f28",
   "metadata": {},
   "outputs": [
    {
     "name": "stdin",
     "output_type": "stream",
     "text": [
      "enter the number 10\n",
      "enter the number 3\n",
      "enter the number 4\n",
      "enter the number 6\n",
      "enter the number 2\n",
      "enter the number 6\n",
      "enter the number 2\n",
      "enter the number 5\n",
      "enter the number 6\n",
      "enter the number 2\n",
      "enter the number 14\n"
     ]
    },
    {
     "name": "stdout",
     "output_type": "stream",
     "text": [
      "[3, 4, 6, 2, 6, 2, 5, 6, 2, 14]\n",
      "10\n"
     ]
    }
   ],
   "source": [
    "# 2. Find the length of a list without using the `len()` function.\n",
    "l2=[]\n",
    "n=int(input(\"enter the number\"))\n",
    "for i in range(1,n+1):\n",
    "    ele=int(input(\"enter the number\"))\n",
    "    l2.append(ele)\n",
    "print(l2)\n",
    "count=0\n",
    "for  j in l2:\n",
    "    count+=1\n",
    "print(count)"
   ]
  },
  {
   "cell_type": "code",
   "execution_count": 39,
   "id": "6cb7a3bd-3ee4-414e-b027-8ae624ea0f90",
   "metadata": {},
   "outputs": [
    {
     "name": "stdin",
     "output_type": "stream",
     "text": [
      "enter the number to append 4\n",
      "enter string to append karna1\n",
      "enter the number to append 3\n",
      "enter string to append karan2\n",
      "enter the number to append 4\n",
      "enter string to append karan5\n"
     ]
    },
    {
     "name": "stdout",
     "output_type": "stream",
     "text": [
      "[4, 'karna1', 3, 'karan2', 4, 'karan5']\n",
      "[112, 'karan', 'shejal', 324, 2.3, 'ugc', [4, 'karna1', 3, 'karan2', 4, 'karan5']]\n"
     ]
    }
   ],
   "source": [
    "# 3. Append an element to the end of a list.\n",
    "l3=[112,'karan','shejal',324,2.3,'ugc']\n",
    "new=[]\n",
    "for i in range(1,4):\n",
    "    ele=int(input(\"enter the number to append\"))\n",
    "    char=input(\"enter string to append\") \n",
    "    new.append(ele)\n",
    "    new.append(char)\n",
    "print(new)\n",
    "l3.append(new)\n",
    "print(l3)\n",
    "\n"
   ]
  },
  {
   "cell_type": "code",
   "execution_count": 40,
   "id": "03c752cf-0ef7-4c41-811f-0aa73f4b17bd",
   "metadata": {},
   "outputs": [
    {
     "name": "stdin",
     "output_type": "stream",
     "text": [
      "enter the number of times loop will run 5\n",
      "enter the element to add in the list karan\n",
      "enter the element to add in the list devansh\n",
      "enter the element to add in the list rane\n",
      "enter the element to add in the list uraj\n",
      "enter the element to add in the list arun\n",
      "enter the index number 4\n",
      "enter the word to append in the list vijay\n"
     ]
    },
    {
     "name": "stdout",
     "output_type": "stream",
     "text": [
      "['karan', 'devansh', 'rane', 'uraj', 'vijay', 'arun']\n"
     ]
    }
   ],
   "source": [
    "# 4. Insert an element at a specific index in a list.\n",
    "l=[]\n",
    "n=int(input(\"enter the number of times loop will run\") )\n",
    "for i in range(1,n+1):\n",
    "    element=input(\"enter the element to add in the list\")\n",
    "    l.append(element)\n",
    "\n",
    "index=int(input(\"enter the index number\"))\n",
    "word=input(\"enter the word to append in the list\")\n",
    "l.insert(index,word)\n",
    "print(l)\n"
   ]
  },
  {
   "cell_type": "code",
   "execution_count": 42,
   "id": "7123ba80-701b-4109-939f-a91d028ba849",
   "metadata": {},
   "outputs": [
    {
     "name": "stdin",
     "output_type": "stream",
     "text": [
      "enter the number of times loop will run 5\n",
      "enter the number  to append in the list 1\n",
      "enter the number  to append in the list 2\n",
      "enter the number  to append in the list 3\n",
      "enter the number  to append in the list 4\n",
      "enter the number  to append in the list 5\n",
      "enter the number to remove from  the list 1\n"
     ]
    },
    {
     "name": "stdout",
     "output_type": "stream",
     "text": [
      "[2, 3, 4, 5]\n"
     ]
    }
   ],
   "source": [
    "# 5. Remove an element from a list by its value.\n",
    "l=[]\n",
    "n=int(input(\"enter the number of times loop will run\"))\n",
    "for  i in range(1,n+1):\n",
    "    number=int(input(\"enter the number  to append in the list\"))\n",
    "    l.append(number)\n",
    "number_to_remove=int(input(\"enter the number to remove from  the list\" ))\n",
    "l.remove(number_to_remove)\n",
    "print(l)\n",
    "\n"
   ]
  },
  {
   "cell_type": "code",
   "execution_count": 43,
   "id": "c1f79783-780c-48b7-a801-5eb489f1957e",
   "metadata": {},
   "outputs": [
    {
     "name": "stdin",
     "output_type": "stream",
     "text": [
      "enter the number of times loop will run 5\n",
      "enter the element to append in the list 3\n",
      "enter the element to append in the list 5\n",
      "enter the element to append in the list 6\n",
      "enter the element to append in the list 2\n",
      "enter the element to append in the list 4\n",
      "enter the index 3\n"
     ]
    },
    {
     "name": "stdout",
     "output_type": "stream",
     "text": [
      "[3, 5, 6, 4]\n",
      "[3, 5, 6, 4]\n"
     ]
    }
   ],
   "source": [
    "# 6. Remove an element from a list by its index.\n",
    "my_list=[]\n",
    "n=int(input(\"enter the number of times loop will run\"))\n",
    "for i in range(1,n+1):\n",
    "    iteams=int(input(\"enter the element to append in the list\"))\n",
    "    my_list.append(iteams)\n",
    "index_to_remove=int(input(\"enter the index\"))\n",
    "modified_list=my_list[:index_to_remove]+my_list[index_to_remove+1:]\n",
    "print(modified_list)\n",
    "#another approach is-\n",
    "my_list.pop(index_to_remove)\n",
    "print(my_list)\n"
   ]
  },
  {
   "cell_type": "code",
   "execution_count": 47,
   "id": "1ea2da6f-b78d-4230-92fb-dde53a46a062",
   "metadata": {},
   "outputs": [
    {
     "name": "stdin",
     "output_type": "stream",
     "text": [
      "enter the range 3\n",
      "enter the element to add in the list karan\n",
      "enter the element to add in the list arun\n",
      "enter the element to add in the list rane\n",
      "enter the element to check in the list devansh\n"
     ]
    },
    {
     "name": "stdout",
     "output_type": "stream",
     "text": [
      "element not exist in the list\n"
     ]
    }
   ],
   "source": [
    "# 7. Check if an element exists in a list.\n",
    "my_list=[]\n",
    "n=int(input(\"enter the range\"))\n",
    "for i in range(1,n+1):\n",
    "    el=input(\"enter the element to add in the list\")\n",
    "    my_list.append(el)\n",
    "check_ele=input(\"enter the element to check in the list\")\n",
    "for i in my_list:\n",
    "    if check_ele in i:\n",
    "        print(\"yes the element exsist in the list\")\n",
    "        break\n",
    "    else:\n",
    "        print(\"element not exist in the list\")\n",
    "        break\n",
    "\n"
   ]
  },
  {
   "cell_type": "code",
   "execution_count": 50,
   "id": "b2f02e71-45db-40e5-b0bc-badc8d671493",
   "metadata": {},
   "outputs": [
    {
     "name": "stdin",
     "output_type": "stream",
     "text": [
      "enter the range 3\n",
      "enter the element to add in the list karan\n",
      "enter the element to add in the list rane\n",
      "enter the element to add in the list patil\n",
      "enter the element to check rane\n"
     ]
    },
    {
     "name": "stdout",
     "output_type": "stream",
     "text": [
      "element name:rane,element index:1\n"
     ]
    }
   ],
   "source": [
    "# 8. Find the index of the first occurrence of an element in a list.\n",
    "my_list=[]\n",
    "n=int(input(\"enter the range\"))\n",
    "for i in range(1,n+1):\n",
    "    el=input(\"enter the element to add in the list\")\n",
    "    my_list.append(el)\n",
    "element_to_check=input(\"enter the element to check\")\n",
    "first_occurence=0\n",
    "for index,iteam in enumerate(my_list):\n",
    "    if iteam==element_to_check:\n",
    "        first_occurence=index\n",
    "        break\n",
    "if first_occurence!=0:\n",
    "    print(f'element name:{element_to_check},element index:{first_occurence}')\n",
    "else:\n",
    "    print(\"element not exist in the list\")\n"
   ]
  },
  {
   "cell_type": "code",
   "execution_count": 52,
   "id": "7f09cb48-3a25-4bae-8878-85e6a58f84a8",
   "metadata": {},
   "outputs": [
    {
     "name": "stdin",
     "output_type": "stream",
     "text": [
      "enter the range 4\n",
      "enter the element to add in the list karan\n",
      "enter the element to add in the list devansh\n",
      "enter the element to add in the list harsh\n",
      "enter the element to add in the list karan\n",
      "enter the element to check the occurence karan\n"
     ]
    },
    {
     "name": "stdout",
     "output_type": "stream",
     "text": [
      "elements name:karan,element occurence:2\n",
      "occurence_of_element is2\n"
     ]
    }
   ],
   "source": [
    "\n",
    "\n",
    "# 9. Count the occurrences of an element in a list.\n",
    "my_list=[]\n",
    "n=int(input(\"enter the range\"))\n",
    "for i in range(1,n+1):\n",
    "    el=input(\"enter the element to add in the list\")\n",
    "    my_list.append(el)\n",
    "count=0\n",
    "check_element=input(\"enter the element to check the occurence\")\n",
    "for k in my_list:\n",
    "    if k==check_element:\n",
    "        count+=1\n",
    "\n",
    "print(f'elements name:{check_element},element occurence:{count}')\n",
    "#another approach is-\n",
    "occurence_of_element=my_list.count(check_element)\n",
    "print(f'occurence_of_element is{occurence_of_element}')\n",
    "\n"
   ]
  },
  {
   "cell_type": "code",
   "execution_count": 53,
   "id": "b421b7ab-64d5-4413-bf99-9f5c03f506c8",
   "metadata": {},
   "outputs": [
    {
     "name": "stdout",
     "output_type": "stream",
     "text": [
      "here is your reversed list: ['rane', 'suraj', 'karan', 'devasnh']\n",
      "here is your reversed list: ['rane', 'suraj', 'karan', 'devasnh']\n"
     ]
    }
   ],
   "source": [
    "# 10. Reverse the order of elements in a list.\n",
    "my_list=['devasnh','karan','suraj','rane']\n",
    "reversed_list=[]\n",
    "n=len(my_list)\n",
    "for i in range(n-1,-1,-1):\n",
    "    reversed_list.append(my_list[i])\n",
    "print(\"here is your reversed list:\",reversed_list)\n",
    "\n",
    "\n",
    "\n",
    "#another approach is-\n",
    "my_list.reverse()\n",
    "print(\"here is your reversed list:\",my_list)\n"
   ]
  },
  {
   "cell_type": "code",
   "execution_count": 54,
   "id": "9d46a16e-f0e4-4ea3-b60d-faae7e489dfd",
   "metadata": {},
   "outputs": [
    {
     "name": "stdout",
     "output_type": "stream",
     "text": [
      "Sorted list: [1, 3, 4, 4, 4, 32, 324, 435, 435, 435, 2423, 5435]\n",
      "sorted list using function [1, 3, 4, 4, 4, 32, 324, 435, 435, 435, 2423, 5435]\n"
     ]
    }
   ],
   "source": [
    "# 11. Sort a list in ascending order.\n",
    "my_list=[324,435,32,4,1,2423,4,4,3,5435,435,435]\n",
    "\n",
    "n = len(my_list)\n",
    "for i in range(n):\n",
    "    for j in range(0, n-i-1):\n",
    "        if my_list[j] > my_list[j+1]:\n",
    "            # Swap the elements if they are in the wrong order\n",
    "            my_list[j], my_list[j+1] = my_list[j+1], my_list[j]\n",
    "\n",
    "# Print the sorted list\n",
    "print(\"Sorted list:\", my_list)\n",
    "#another approach is-\n",
    "my_list.sort()\n",
    "print(\"sorted list using function\",my_list)\n"
   ]
  },
  {
   "cell_type": "code",
   "execution_count": 2,
   "id": "8321dc1c-7367-460f-874d-163e0a07b4a3",
   "metadata": {},
   "outputs": [
    {
     "name": "stdout",
     "output_type": "stream",
     "text": [
      "The minimum element is: 1\n"
     ]
    }
   ],
   "source": [
    "\n",
    "# 12. Sort a list in descending order.\n",
    "def find_min_recursive(arr):\n",
    "    # Base case: If the list has only one element, return that element\n",
    "    if len(arr) == 1:\n",
    "        return arr[0]\n",
    "\n",
    "    # Find the minimum element in the rest of the list\n",
    "    min_rest = find_min_recursive(arr[1:])\n",
    "\n",
    "    # Compare the minimum of the rest with the first element of the list\n",
    "    if arr[0] < min_rest:\n",
    "        return arr[0]\n",
    "    else:\n",
    "        return min_rest\n",
    "\n",
    "# Example usage:\n",
    "my_list = [3, 1, 4, 1, 5, 9, 2, 6, 5, 3, 5]\n",
    "min_element = find_min_recursive(my_list)\n",
    "print(\"The minimum element is:\", min_element)\n",
    "\n"
   ]
  },
  {
   "cell_type": "code",
   "execution_count": 3,
   "id": "293d812e-c9ae-4e70-a485-30bcb14ba35a",
   "metadata": {},
   "outputs": [
    {
     "name": "stdout",
     "output_type": "stream",
     "text": [
      "[2, 4, 6, 8, 10, 12, 14, 16, 18, 20]\n"
     ]
    }
   ],
   "source": [
    "\n",
    "# 13. Create a list of even numbers from 1 to 20.\n",
    "my_list=[]\n",
    "for i in range(1,20+1):\n",
    "    if i%2==0:\n",
    "        my_list.append(i)\n",
    "print(my_list)\n",
    "\n",
    "\n"
   ]
  },
  {
   "cell_type": "code",
   "execution_count": 4,
   "id": "3a5eb5ae-423e-472b-834e-23f373a3b5db",
   "metadata": {},
   "outputs": [
    {
     "name": "stdout",
     "output_type": "stream",
     "text": [
      "[1, 3, 5, 7, 9, 11, 13, 15, 17, 19]\n"
     ]
    }
   ],
   "source": [
    "# 14. Create a list of odd numbers from 1 to 20.\n",
    "my_list=[]\n",
    "for i in range(1,20+1):\n",
    "    if i%2==1:\n",
    "        my_list.append(i)\n",
    "print(my_list)\n"
   ]
  },
  {
   "cell_type": "code",
   "execution_count": 5,
   "id": "cc28313f-71bf-48e1-a56c-05db595a395d",
   "metadata": {},
   "outputs": [
    {
     "name": "stdout",
     "output_type": "stream",
     "text": [
      "sum of all elements of list: 2132807205\n"
     ]
    }
   ],
   "source": [
    "\n",
    "# 15. Find the sum of all elements in a list.\n",
    "my_list=[234234,2132132324,435345,123,324,4353,5,435,34,5,23]\n",
    "sum=0\n",
    "for i in my_list:\n",
    "    sum+=i\n",
    "print(\"sum of all elements of list:\",sum)\n",
    "\n"
   ]
  },
  {
   "cell_type": "code",
   "execution_count": 6,
   "id": "34fe5624-7e1f-44d4-ba02-887d20ea5682",
   "metadata": {},
   "outputs": [
    {
     "name": "stdout",
     "output_type": "stream",
     "text": [
      "the maximum element of the list 765\n",
      "the max value of list: 765\n"
     ]
    }
   ],
   "source": [
    "# 16. Find the maximum value in a list.\n",
    "my_list=[123,213,432,543,223,765]\n",
    "maxi=0\n",
    "for i in my_list:\n",
    "    if i>maxi:\n",
    "        maxi=i\n",
    "print(\"the maximum element of the list\",maxi)\n",
    "\n",
    "#another approach is-\n",
    "max_value=max(my_list)\n",
    "print(\"the max value of list:\",max_value)"
   ]
  },
  {
   "cell_type": "code",
   "execution_count": 7,
   "id": "da264008-55cf-4801-9b01-6bea062b771e",
   "metadata": {},
   "outputs": [
    {
     "name": "stdout",
     "output_type": "stream",
     "text": [
      "here is your minimum value of list 123\n",
      "here is your min element of list 123\n"
     ]
    }
   ],
   "source": [
    "# 17. Find the minimum value in a list.\n",
    "my_list=[123,213,432,543,223,765]\n",
    "mini=my_list[0]\n",
    "for i in my_list:\n",
    "    if i<mini:\n",
    "        i=mini\n",
    "print(\"here is your minimum value of list\",mini)\n",
    "\n",
    "#another apporach is-\n",
    "print(\"here is your min element of list\",min(my_list))\n"
   ]
  },
  {
   "cell_type": "code",
   "execution_count": 8,
   "id": "58d9b6fe-caf3-4dcc-9c41-a1f2ca0c1274",
   "metadata": {},
   "outputs": [
    {
     "name": "stdout",
     "output_type": "stream",
     "text": [
      "here is the list of square of a number from 1 to 10: [1, 4, 9, 16, 25, 36, 49, 64, 81, 100]\n"
     ]
    }
   ],
   "source": [
    "\n",
    "# 18. Create a list of squares of numbers from 1 to 10.\n",
    "l=[]\n",
    "start=1\n",
    "end=10\n",
    "for i in range(start,end+1):\n",
    "    l.append(i**2)\n",
    "print(\"here is the list of square of a number from 1 to 10:\",l)\n"
   ]
  },
  {
   "cell_type": "code",
   "execution_count": 9,
   "id": "3514bb2e-32f0-4a93-b61c-bbae37cebab7",
   "metadata": {},
   "outputs": [
    {
     "name": "stdout",
     "output_type": "stream",
     "text": [
      "Here is your list of random numbers : [35, 13, 30, 19, 26, 16, 11, 19, 38, 37, 40]\n"
     ]
    }
   ],
   "source": [
    "\n",
    "# 19. Create a list of random numbers.\n",
    "import random\n",
    "list_random=[]\n",
    "size=10\n",
    "mini=10\n",
    "maxi=50\n",
    "for i in range(size+1):\n",
    "    rand_num=random.randint(mini,maxi)\n",
    "    list_random.append(rand_num)\n",
    "print(\"Here is your list of random numbers :\",list_random)\n",
    "\n"
   ]
  },
  {
   "cell_type": "code",
   "execution_count": 10,
   "id": "ec924807-413c-4469-b347-e4a7aae0b46a",
   "metadata": {},
   "outputs": [
    {
     "name": "stdout",
     "output_type": "stream",
     "text": [
      "list which contains dublicates: ['karan', 'rane', 'devansh', 3, 5, 4, 3, 3, 3, 5, 'karan', 'devansh']\n",
      "here is your list which does not contain dublicates:  [3, 'rane', 5, 4, 'karan', 'devansh']\n"
     ]
    }
   ],
   "source": [
    "\n",
    "# 20. Remove duplicates from a list.\n",
    "List_contain_dublicate=['karan','rane','devansh',3,5,4,3,3,3,5,'karan','devansh']\n",
    "print(\"list which contains dublicates:\",List_contain_dublicate)\n",
    "removing_dublicate=set(List_contain_dublicate)\n",
    "creating_anti_dublicates_list=list(removing_dublicate)\n",
    "print(\"here is your list which does not contain dublicates: \",creating_anti_dublicates_list)\n",
    "\n"
   ]
  },
  {
   "cell_type": "code",
   "execution_count": null,
   "id": "69b05f17-20ea-4ecd-8a70-eb83ffa501c7",
   "metadata": {},
   "outputs": [],
   "source": [
    "\n",
    "# 21. Find the common elements between two lists.\n",
    "list1=[1,2,4,5,32,34,4]\n",
    "list2=[1,3,4,32,65,6,76,]\n",
    "common_elements_of_list=[elements for elements in list1 if elements in list2]\n",
    "print(common_elements_of_list)\n",
    "\n",
    "\n"
   ]
  },
  {
   "cell_type": "code",
   "execution_count": 11,
   "id": "566a1aca-27be-4b40-ac3e-b28fd90c6238",
   "metadata": {},
   "outputs": [
    {
     "name": "stdout",
     "output_type": "stream",
     "text": [
      "Here is the difference of two list [2, 5, 34, 3, 65, 6, 76]\n"
     ]
    }
   ],
   "source": [
    "\n",
    "\n",
    "# 22. Find the difference between two lists.\n",
    "list1=[1,2,4,5,32,34,4]\n",
    "list2=[1,3,4,32,65,6,76,]\n",
    "difference1=[iteams for iteams in list1 if iteams not in list2]\n",
    "difference2=[iteams for iteams in list2 if iteams not in list1]\n",
    "print(\"Here is the difference of two list\",difference1 + difference2)\n",
    "\n"
   ]
  },
  {
   "cell_type": "code",
   "execution_count": 12,
   "id": "b09fc125-2ef8-4018-869d-94470044b025",
   "metadata": {},
   "outputs": [
    {
     "name": "stdin",
     "output_type": "stream",
     "text": [
      "enter the number to  run the loop 4\n",
      "enter the element 3\n",
      "enter the element karan\n",
      "enter the element 53\n",
      "enter the element 7\n"
     ]
    },
    {
     "name": "stdout",
     "output_type": "stream",
     "text": [
      "[324, 234, 21, 3, 45, 2, 3, 4, '3', 'karan', '53', '7']\n",
      "[324, 234, 21, 3, 45, 2, 3, 4, '3', 'karan', '53', '7', '3', 'karan', '53', '7']\n",
      "[324, 234, 21, 3, 45, 2, 3, 4, '3', 'karan', '53', '7', '3', 'karan', '53', '7', '3', 'karan', '53', '7']\n"
     ]
    }
   ],
   "source": [
    "\n",
    "# 23. Merge two lists.\n",
    "list1=[324,234,21,3,45,2,3,4]\n",
    "list2=[]\n",
    "n=int(input(\"enter the number to  run the loop\"))\n",
    "for i in range(n):\n",
    "    e=input(\"enter the element\")\n",
    "    list2.append(e)\n",
    "for ele in list2:\n",
    "    list1.append(ele)\n",
    "\n",
    "print(list1)\n",
    "#another way to do this\n",
    "list1.extend(list2)\n",
    "print(list1)\n",
    "#or\n",
    "list3=list1+list2\n",
    "print(list3)\n"
   ]
  },
  {
   "cell_type": "code",
   "execution_count": 13,
   "id": "88796833-26e3-439c-a751-35f59331ad73",
   "metadata": {},
   "outputs": [
    {
     "name": "stdin",
     "output_type": "stream",
     "text": [
      "enter the number of times loop wil run: 4\n",
      "enter the iteams yout want to add  in the list: 4\n",
      "enter the iteams yout want to add  in the list: 6\n",
      "enter the iteams yout want to add  in the list: 4\n",
      "enter the iteams yout want to add  in the list: 2\n"
     ]
    },
    {
     "name": "stdout",
     "output_type": "stream",
     "text": [
      "here is your list element after multiplying by 2 [8, 12, 8, 4]\n",
      "here is your list element after multiplying by 2 [8, 12, 8, 4]\n"
     ]
    }
   ],
   "source": [
    "\n",
    "# 24. Multiply all elements in a list by 2.\n",
    "list1=[]\n",
    "n=int(input(\"enter the number of times loop wil run:\"))    \n",
    "for i in range(n):\n",
    "    items=int(input(\"enter the iteams yout want to add  in the list:\"))\n",
    "    list1.append(items*2)\n",
    "print(\"here is your list element after multiplying by 2\",list1)\n",
    "#another way of doing this\n",
    "for i in list1:\n",
    "    i=i*2\n",
    "print(\"here is your list element after multiplying by 2\",list1)\n",
    "\n",
    "\n"
   ]
  },
  {
   "cell_type": "code",
   "execution_count": 15,
   "id": "3a0f0c77-0ade-498f-95c0-c453626cabd3",
   "metadata": {},
   "outputs": [
    {
     "name": "stdin",
     "output_type": "stream",
     "text": [
      "enter the number to run the loop number of times: 10\n"
     ]
    },
    {
     "name": "stdout",
     "output_type": "stream",
     "text": [
      "here is the list which contain even number: [0, 2, 4, 6, 8]\n"
     ]
    }
   ],
   "source": [
    "# 25. Filter out all even numbers from a list.\n",
    "list1=[]\n",
    "list_containing_even_numbers=[]\n",
    "n=int(input(\"enter the number to run the loop number of times:\"))\n",
    "for i in range(n):\n",
    "    list1.append(i)\n",
    "for number in list1:\n",
    "    if number%2==0:\n",
    "        list_containing_even_numbers.append(number)\n",
    "print(\"here is the list which contain even number:\",list_containing_even_numbers)\n",
    "\n"
   ]
  },
  {
   "cell_type": "code",
   "execution_count": 16,
   "id": "3abf1975-f606-40d5-80a5-20e537b03cc8",
   "metadata": {},
   "outputs": [
    {
     "name": "stdout",
     "output_type": "stream",
     "text": [
      "here is the list which containing number in the form of string: ['1', '2', '3', '4', '5', '6', '7', '8', '9']\n",
      "here is the list which is converted the string number to interger: [1, 2, 3, 4, 5, 6, 7, 8, 9]\n"
     ]
    }
   ],
   "source": [
    "\n",
    "# 26. Convert a list of strings to a list of integers.\n",
    "list1=[]\n",
    "for i in range(1,10):\n",
    "    list1.append(str(i))\n",
    "print(\"here is the list which containing number in the form of string:\",list1)\n",
    "list2=[]\n",
    "for elements in list1:\n",
    "    list2.append(int(elements))\n",
    "print(\"here is the list which is converted the string number to interger:\",list2)\n",
    "\n"
   ]
  },
  {
   "cell_type": "code",
   "execution_count": 17,
   "id": "64b0d05a-3267-4445-ab13-34248e871499",
   "metadata": {},
   "outputs": [
    {
     "name": "stdout",
     "output_type": "stream",
     "text": [
      "here is the list which containing number in the form of integer: [1, 2, 3, 4, 5, 6, 7, 8, 9]\n",
      "here is the list which is converted the interger to string form: ['1', '2', '3', '4', '5', '6', '7', '8', '9']\n"
     ]
    }
   ],
   "source": [
    "# 27. Convert a list of integers to a list of strings.\n",
    "list1=[]\n",
    "for i in range(1,10):\n",
    "    list1.append(i)\n",
    "print(\"here is the list which containing number in the form of integer:\",list1)\n",
    "list2=[]\n",
    "for elements in list1:\n",
    "    list2.append(str(elements))\n",
    "print(\"here is the list which is converted the interger to string form:\",list2)\n",
    "\n",
    "\n"
   ]
  },
  {
   "cell_type": "code",
   "execution_count": 18,
   "id": "2aba079d-2b0e-4008-b2c5-6e016c61031e",
   "metadata": {},
   "outputs": [
    {
     "name": "stdout",
     "output_type": "stream",
     "text": [
      "Here is our flat list :  [1, 2, 3, 4, 5, 6, 7, 8]\n"
     ]
    }
   ],
   "source": [
    "# 28. Flatten a nested list.\n",
    "def flat_the_list(nested_list):\n",
    "    flat_list=[]\n",
    "    for sublist in nested_list:\n",
    "        if isinstance(sublist,list):\n",
    "            flat_list.extend(flat_the_list(sublist))\n",
    "        else:\n",
    "            flat_list.append(sublist)\n",
    "    return flat_list\n",
    "\n",
    "\n",
    "nested_list = [1, [2, [3, 4], 5], 6, [7, 8]]\n",
    "flat_list=flat_the_list(nested_list)\n",
    "print(\"Here is our flat list : \",flat_list)\n"
   ]
  },
  {
   "cell_type": "code",
   "execution_count": 19,
   "id": "e5ad6451-6682-46bc-a706-2738d2c9473c",
   "metadata": {},
   "outputs": [
    {
     "name": "stdout",
     "output_type": "stream",
     "text": [
      "Here is the list which contains first 10 fibonacchi numbers: [0, 1, 1, 2, 3, 5, 8, 13, 21, 34]\n"
     ]
    }
   ],
   "source": [
    "\n",
    "\n",
    "# 29. Create a list of the first 10 Fibonacci numbers.\n",
    "\n",
    "list_of_fib_numbers=[]\n",
    "first_term=0\n",
    "second_term=1\n",
    "for i in range(1,10+1):\n",
    "    list_of_fib_numbers.append(first_term)\n",
    "    next_term=first_term+second_term\n",
    "    first_term=second_term\n",
    "    second_term=next_term\n",
    "\n",
    "print(\"Here is the list which contains first 10 fibonacchi numbers:\",list_of_fib_numbers)\n"
   ]
  },
  {
   "cell_type": "code",
   "execution_count": 20,
   "id": "664f32aa-fc33-4f48-9c32-62b533e0bcaa",
   "metadata": {},
   "outputs": [
    {
     "name": "stdout",
     "output_type": "stream",
     "text": [
      "False\n"
     ]
    }
   ],
   "source": [
    "\n",
    "# 30. Check if a list is sorted.\n",
    "def sorted_list(lst):\n",
    "    for i in range(len(lst)-1):\n",
    "        if lst[i]> lst[i+1]:\n",
    "            return False\n",
    "    return True\n",
    "\n",
    "lst=[1,2,3,4,5,6,9,7]\n",
    "print(sorted_list(lst))\n"
   ]
  },
  {
   "cell_type": "code",
   "execution_count": 21,
   "id": "5d4d16be-a59c-49a7-a8fa-4c3581284d61",
   "metadata": {},
   "outputs": [
    {
     "name": "stdout",
     "output_type": "stream",
     "text": [
      "[44, 32, 424, 4678, 3, 23, 34, 23, 1, 2]\n",
      "[2, 44, 32, 424, 4678, 3, 23, 34, 23, 1]\n"
     ]
    }
   ],
   "source": [
    "\n",
    "# 31. Rotate a list to the left by `n` positions.\n",
    "\n",
    "\n",
    "list1=[23,1,2,44,32,424,4678,3,23,34]\n",
    "n=3\n",
    "rotated_list=list1[n:]+list1[:n]\n",
    "print(rotated_list)\n",
    "#another approach\n",
    "n2=2  \n",
    "for k in range(n2):\n",
    "    first_element=list1[0]\n",
    "    for i in range(len(list1)-1):\n",
    "        list1[i]=list1[i+1]\n",
    "    list1[-1]=first_element\n",
    "print(list1)\n",
    "\n"
   ]
  },
  {
   "cell_type": "code",
   "execution_count": 22,
   "id": "ae1b2be7-51bd-4b7f-8890-298f135de9dd",
   "metadata": {},
   "outputs": [
    {
     "name": "stdout",
     "output_type": "stream",
     "text": [
      "[1, 2, 3, 4, 5]\n",
      "[3, 4, 5, 1, 2]\n",
      "[5, 1, 2, 3, 4]\n"
     ]
    }
   ],
   "source": [
    "# 32. Rotate a list to the right by `n` positions.\n",
    "list1=[]\n",
    "for b in range(1,6):\n",
    "    list1.append(b)\n",
    "print(list1)\n",
    "n=3\n",
    "for i in range(n):\n",
    "    last_element=list1.pop()\n",
    "    list1.insert(0,last_element)\n",
    "print(list1)\n",
    "#another approach is \n",
    "n2=3\n",
    "rotate_by=list1[-n2:]+list1[:-n2]\n",
    "print(rotate_by)\n"
   ]
  },
  {
   "cell_type": "code",
   "execution_count": 23,
   "id": "28b1a11b-a4b7-46fd-83d5-8899b87dc80b",
   "metadata": {},
   "outputs": [
    {
     "name": "stdout",
     "output_type": "stream",
     "text": [
      "[2, 3, 5, 7, 11, 13, 17, 19, 23, 29, 31, 37, 41, 43, 47]\n"
     ]
    }
   ],
   "source": [
    "# 33. Create a list of prime numbers up to 50.\n",
    "def is_prime(num):\n",
    "    if num<=1:\n",
    "        return False\n",
    "    for i in range(2,num):\n",
    "        if num%i==0:\n",
    "            return False\n",
    "    return True\n",
    "primes=[]\n",
    "for num in range(2,51):\n",
    "    if  is_prime(num):\n",
    "        primes.append(num)\n",
    "print(primes)"
   ]
  },
  {
   "cell_type": "code",
   "execution_count": 24,
   "id": "3d673cf3-8b02-4923-a53b-3bca408f6ea7",
   "metadata": {},
   "outputs": [
    {
     "name": "stdout",
     "output_type": "stream",
     "text": [
      "[[1, 2, 3], [4, 5, 6], [7, 8, 9]]\n"
     ]
    }
   ],
   "source": [
    "\n",
    "# 34. Split a list into chunks of size `n`.\n",
    "def split_chunks(lst,n):\n",
    "    chunks=[]\n",
    "    for i in range(0,len(lst),n):\n",
    "        chunk=lst[i:i+n]\n",
    "        chunks.append(chunk)\n",
    "    return chunks\n",
    "my_list=[]\n",
    "chunk=3\n",
    "\n",
    "for i in range(1,10):\n",
    "    my_list.append(i)\n",
    "chunks=(split_chunks(my_list,chunk))\n",
    "print(chunks)\n"
   ]
  },
  {
   "cell_type": "code",
   "execution_count": 25,
   "id": "a974bcb0-e34b-46b5-a752-a3b811107d71",
   "metadata": {},
   "outputs": [
    {
     "name": "stdout",
     "output_type": "stream",
     "text": [
      "here is the second largest element of a given list : 15\n"
     ]
    }
   ],
   "source": [
    "\n",
    "# 35. Find the second largest number in a list.\n",
    "def second_largest(lst):\n",
    "    if len(lst)<2:\n",
    "        return \"list must contain 2 elements\"\n",
    "    largest=second_large=float('-inf')\n",
    "    for num in lst:\n",
    "        if num > largest:\n",
    "            second_largest = largest\n",
    "            largest = num\n",
    "        elif num < largest and num > second_large:\n",
    "            second_large = num\n",
    "    return second_large\n",
    "\n",
    "\n",
    "numbers_list = [10, 5, 8, 20, 15]\n",
    "second_large_element_of_list = second_largest(numbers_list)\n",
    "print(\"here is the second largest element of a given list :\", second_large_element_of_list)\n",
    "\n",
    "\n"
   ]
  },
  {
   "cell_type": "code",
   "execution_count": 26,
   "id": "022f214e-99d7-48b4-b960-06b2440b1672",
   "metadata": {},
   "outputs": [
    {
     "name": "stdout",
     "output_type": "stream",
     "text": [
      "[1, 4, 9, 16, 25, 36]\n"
     ]
    }
   ],
   "source": [
    "\n",
    "# 36. Replace every element in a list with its square.\n",
    "l=[1,2,3,4,5,6]\n",
    "l=[i*i for i in l ]\n",
    "print(l)\n"
   ]
  },
  {
   "cell_type": "code",
   "execution_count": 27,
   "id": "f02b1e2e-271b-4170-a117-72f325bf1922",
   "metadata": {},
   "outputs": [
    {
     "name": "stdout",
     "output_type": "stream",
     "text": [
      "{0: 'karan', 1: 'devansh', 2: 'rane'}\n"
     ]
    }
   ],
   "source": [
    "\n",
    "# 37. Convert a list to a dictionary where list elements become keys and their\n",
    "# indices become values.\n",
    "list5=['karan','devansh','rane']\n",
    "my_dict={}\n",
    "for iteams,index in enumerate(list5):\n",
    "    my_dict[iteams]=index\n",
    "print(my_dict)\n"
   ]
  },
  {
   "cell_type": "code",
   "execution_count": 28,
   "id": "12471276-a251-4a54-8ebe-8832cc2ae0aa",
   "metadata": {},
   "outputs": [
    {
     "name": "stdout",
     "output_type": "stream",
     "text": [
      "[6, 1, 5, 3, 7, 4, 2]\n"
     ]
    }
   ],
   "source": [
    "\n",
    "# 38. Shuffle the elements of a list randomly.\n",
    "import random\n",
    "my_list=[1,2,3,4,5,6,7]\n",
    "def random_shuffle(arr):\n",
    "    n=len(arr)\n",
    "    for i in range(n-1):\n",
    "        j=random.randint(i,n-1)\n",
    "        arr[i], arr[j]=arr[j],arr[i]\n",
    "\n",
    "random_shuffle(my_list)\n",
    "print(my_list)"
   ]
  },
  {
   "cell_type": "code",
   "execution_count": 29,
   "id": "bc2dae85-aec4-4c3b-81cd-f9d3de51c16e",
   "metadata": {},
   "outputs": [
    {
     "name": "stdout",
     "output_type": "stream",
     "text": [
      "[1, 2, 6, 24, 120, 720, 5040, 40320, 362880, 3628800]\n"
     ]
    }
   ],
   "source": [
    "\n",
    "# 39. Create a list of the first 10 factorial numbers.\n",
    "def list_fact(n):\n",
    "    if n==0 or n==1:\n",
    "        return 1\n",
    "    else:\n",
    "        return n*list_fact(n-1)\n",
    "\n",
    "fact_list1=[list_fact(n) for n in range(1,10+1)]\n",
    "print(fact_list1)\n"
   ]
  },
  {
   "cell_type": "code",
   "execution_count": 30,
   "id": "70039571-c2f4-430b-be7e-7dcd71f05b4c",
   "metadata": {},
   "outputs": [
    {
     "name": "stdout",
     "output_type": "stream",
     "text": [
      "yes the list contains common elements\n"
     ]
    }
   ],
   "source": [
    "\n",
    "# 40. Check if two lists have at least one element in common.\n",
    "def commom_ele(list1,list2):\n",
    "    for elements in list1:\n",
    "        if elements in list2:\n",
    "            return True\n",
    "        return False\n",
    "list1=[2,1,3,5,2]\n",
    "list2=[77,55,33,22,55,2]\n",
    "if commom_ele(list1,list2):\n",
    "    print(\"yes the list contains common elements\")\n",
    "else:\n",
    "    print(\"no the list does not contains the common element\")\n",
    "\n"
   ]
  },
  {
   "cell_type": "code",
   "execution_count": 31,
   "id": "63d39dcb-a9c4-4ec2-b6af-34c2ef4a797b",
   "metadata": {},
   "outputs": [
    {
     "name": "stdout",
     "output_type": "stream",
     "text": [
      "[]\n"
     ]
    }
   ],
   "source": [
    "\n",
    "# 41. Remove all elements from a list.\n",
    "def remove_ele(list1):\n",
    "    n=len(list1)\n",
    "    for i in range(n):\n",
    "        list1.pop()\n",
    "    return list1\n",
    "l1=[2,3,1,4,2]\n",
    "a=remove_ele(l1)\n",
    "print(a)\n"
   ]
  },
  {
   "cell_type": "code",
   "execution_count": 32,
   "id": "779d09cc-96df-492d-9082-d2e53fdd36d5",
   "metadata": {},
   "outputs": [
    {
     "name": "stdout",
     "output_type": "stream",
     "text": [
      "[34, 3, 2, 4, 5, 2, 3, 0, 0, 7, 0]\n",
      "[34, 3, 2, 4, 5, 2, 3, 0, 0, 7, 0]\n"
     ]
    }
   ],
   "source": [
    "\n",
    "\n",
    "# 42. Replace negative numbers in a list with 0.\n",
    "def replace_zero(list1):\n",
    "    modified_list=[]\n",
    "    for num in list1:\n",
    "        if num<0:\n",
    "            modified_list.append(0)\n",
    "        else:\n",
    "            modified_list.append(num)\n",
    "    return modified_list        \n",
    "\n",
    "list1=[34,3,2,4,5,2,3,-1,-8,7,-76]\n",
    "modified_list1=(replace_zero(list1))\n",
    "print(modified_list1)\n",
    "#another approach -\n",
    "modified_list2=[0 if num<0 else num for num in list1]\n",
    "print(modified_list2)\n",
    "\n"
   ]
  },
  {
   "cell_type": "code",
   "execution_count": 33,
   "id": "4da13e2d-051d-4489-9b0b-b9feeb6731ed",
   "metadata": {},
   "outputs": [
    {
     "name": "stdout",
     "output_type": "stream",
     "text": [
      "['hey', 'guys', 'this', 'is', 'karan', 'and', 'i', 'am', 'learning', 'data', 'science', 'from', 'PW', 'skills']\n",
      "['before', 'the', 'existence', 'of', 'a', 'human', '', 'being', 'what', 'type', 'ofn', 'creatures', 'were', 'living', 'here']\n"
     ]
    }
   ],
   "source": [
    "\n",
    "# 43. Convert a string into a list of words.\n",
    "def list_words(str1):\n",
    "    words=\"\"\n",
    "    list1=[]\n",
    "    for word in str1:\n",
    "        if word!=\" \":\n",
    "            words+=word\n",
    "        else:\n",
    "            list1.append(words)\n",
    "            words=\"\"\n",
    "    if words:\n",
    "        list1.append(words)\n",
    "    return list1\n",
    "str1=\"hey guys this is karan and i am learning data science from PW skills\"\n",
    "print(list_words(str1))\n",
    "str2=\"before the existence of a human  being what type ofn creatures were living here\"\n",
    "print(list_words(str2))\n",
    "\n"
   ]
  },
  {
   "cell_type": "code",
   "execution_count": 34,
   "id": "a27249f3-dfcc-4d01-9875-268f28417f05",
   "metadata": {},
   "outputs": [
    {
     "name": "stdout",
     "output_type": "stream",
     "text": [
      "modi_ji is our pm \n",
      "modi_ji is our pm\n"
     ]
    }
   ],
   "source": [
    "\n",
    "# 44. Convert a list of words into a string.\n",
    "def string_words(list1):\n",
    "    str1=\"\"\n",
    "    for iteams in list1:\n",
    "        str1+=iteams+\" \"\n",
    "    str1.rstrip()\n",
    "    return str1\n",
    "list1=['modi_ji','is our','pm']\n",
    "print(string_words(list1))\n",
    "#or we can do\n",
    "resulted_string=' '.join(list1)\n",
    "print(resulted_string)"
   ]
  },
  {
   "cell_type": "code",
   "execution_count": 35,
   "id": "464c9614-e857-4aae-be22-f4af36b32132",
   "metadata": {},
   "outputs": [
    {
     "name": "stdout",
     "output_type": "stream",
     "text": [
      "[1, 2, 4, 8, 16, 32]\n"
     ]
    }
   ],
   "source": [
    "\n",
    "# 45. Create a list of the first `n` powers of 2.\n",
    "list1=[]\n",
    "n=5\n",
    "for i in range(n+1):\n",
    "    list1.append(2**i)\n",
    "print(list1)"
   ]
  },
  {
   "cell_type": "code",
   "execution_count": 36,
   "id": "8eadb7e6-3933-4e49-a8eb-9554bee67b00",
   "metadata": {},
   "outputs": [
    {
     "name": "stdout",
     "output_type": "stream",
     "text": [
      "devansh123\n"
     ]
    }
   ],
   "source": [
    "\n",
    "# 46. Find the longest string in a list of strings.\n",
    "my_list=['karan','sudhsir','devansh123','rane']\n",
    "long_str=my_list[0]\n",
    "for word in my_list:\n",
    "    if len(word)>len(long_str):\n",
    "        long_str=word\n",
    "print(long_str)"
   ]
  },
  {
   "cell_type": "code",
   "execution_count": 37,
   "id": "b0c3963c-e627-454c-a708-9ae186d1d8d8",
   "metadata": {},
   "outputs": [
    {
     "name": "stdout",
     "output_type": "stream",
     "text": [
      "rane\n"
     ]
    }
   ],
   "source": [
    "\n",
    "# 47. Find the shortest string in a list of strings.\n",
    "my_list=['karan','rane','sudhsir','devansh123']\n",
    "short_str=my_list[0]\n",
    "for word in my_list:\n",
    "    if len(word)<len(short_str):\n",
    "        short_str=word\n",
    "print(short_str)\n",
    "\n"
   ]
  },
  {
   "cell_type": "code",
   "execution_count": 38,
   "id": "2e8c90bc-2e68-4099-b3d1-4a95f52c2cb3",
   "metadata": {},
   "outputs": [
    {
     "name": "stdin",
     "output_type": "stream",
     "text": [
      "enter the number of traingular number you want : 10\n"
     ]
    },
    {
     "name": "stdout",
     "output_type": "stream",
     "text": [
      "here is a list of n traingular numbers : [1, 3, 6, 10, 15, 21, 28, 36, 45, 55]\n"
     ]
    }
   ],
   "source": [
    "\n",
    "\n",
    "# 48. Create a list of the first `n` triangular numbers.\n",
    "def traingular_num(n):\n",
    "    list_traingular_num=[]\n",
    "    for i in range(1,n+1):\n",
    "        traingular_num=0\n",
    "        for j in range(1,i+1):\n",
    "            traingular_num+=j\n",
    "        list_traingular_num.append(traingular_num)\n",
    "    return list_traingular_num\n",
    "\n",
    "n=int(input(\"enter the number of traingular number you want :\"))\n",
    "traingular_list=traingular_num(n)\n",
    "print(f'here is a list of n traingular numbers : {traingular_list}')\n",
    "\n",
    "\n"
   ]
  },
  {
   "cell_type": "code",
   "execution_count": 39,
   "id": "0e47c4d9-7e71-4d51-abdd-2c6712209501",
   "metadata": {},
   "outputs": [
    {
     "name": "stdout",
     "output_type": "stream",
     "text": [
      "yes the list contain another list in a subsequence\n"
     ]
    }
   ],
   "source": [
    "\n",
    "# 49. Check if a list contains another list as a subsequence.\n",
    "def is_subsequence(main_list,sub_list):\n",
    "    main_len=len(main_list)\n",
    "    sub_len=len(sub_list)\n",
    "    for  i in range(main_len-sub_len):\n",
    "        if main_list[i:i+sub_len]==sub_list:\n",
    "            return True\n",
    "    return False\n",
    "\n",
    "main_list = [1, 2, 3, 4, 5, 6, 7]\n",
    "sub_list = [3, 4, 5]\n",
    "result=is_subsequence(main_list,sub_list)\n",
    "if result:\n",
    "    print(\"yes the list contain another list in a subsequence\")\n",
    "else:\n",
    "    print(\"no the list does not contain another list as an subsequence \")\n",
    "\n"
   ]
  },
  {
   "cell_type": "code",
   "execution_count": 40,
   "id": "61e8984b-5bc9-4179-a5bf-305194ee9037",
   "metadata": {},
   "outputs": [
    {
     "name": "stdout",
     "output_type": "stream",
     "text": [
      "[1, 2, 3, 7, 5, 6, 4, 8]\n"
     ]
    }
   ],
   "source": [
    "\n",
    "# 50. Swap two elements in a list by their indices.\n",
    "def swap_elements(arr,index1,index2):\n",
    "    if 0<=index1<len(arr) and 0<=index2<len(arr):\n",
    "        arr[index1],arr[index2]=arr[index2],arr[index1]\n",
    "    else:\n",
    "        print(\"invalild indices\")\n",
    "\n",
    "my_list=[1,2,3,4,5,6,7,8]\n",
    "swap_elements(my_list,3,6)\n",
    "print(my_list)\n"
   ]
  },
  {
   "cell_type": "markdown",
   "id": "c1c8dfcb-ddaa-41d1-8d62-589ed9cf3f07",
   "metadata": {},
   "source": [
    "Tuple based question"
   ]
  },
  {
   "cell_type": "code",
   "execution_count": 41,
   "id": "8b16dbdb-8c0e-4627-b04a-826ab8b47b41",
   "metadata": {},
   "outputs": [
    {
     "name": "stdout",
     "output_type": "stream",
     "text": [
      "Here is the tuple which contain first five interger: (1, 2, 3, 4, 5)\n"
     ]
    }
   ],
   "source": [
    "\n",
    "# 1. Create a tuple with integers from 1 to 5.\n",
    "list1=[]\n",
    "for i in range(1,5+1):\n",
    "    list1.append(i)\n",
    "print(\"Here is the tuple which contain first five interger:\",tuple(list1))\n"
   ]
  },
  {
   "cell_type": "code",
   "execution_count": 42,
   "id": "f14f7136-048a-4d30-8039-c9e93d5a435d",
   "metadata": {},
   "outputs": [
    {
     "name": "stdout",
     "output_type": "stream",
     "text": [
      "4\n",
      "4\n"
     ]
    }
   ],
   "source": [
    "\n",
    "# 2. Access the third element of a tuple.\n",
    "tuple1=(1,2,3,4,5)\n",
    "print(tuple1[3])\n",
    "# 0r\n",
    "for i in tuple1:\n",
    "    if i==3:\n",
    "        print(tuple1[i])"
   ]
  },
  {
   "cell_type": "code",
   "execution_count": 43,
   "id": "9756af78-4978-47e4-bf51-727de9c2ff78",
   "metadata": {},
   "outputs": [
    {
     "name": "stdout",
     "output_type": "stream",
     "text": [
      "9\n"
     ]
    }
   ],
   "source": [
    "\n",
    "# 3. Find the length of a tuple without using the `len()` function.\n",
    "tuple1=(1,2,4,5,34,45,6,3,1)\n",
    "length_tuple=0\n",
    "for i in tuple1:\n",
    "    length_tuple+=1\n",
    "print(length_tuple)"
   ]
  },
  {
   "cell_type": "code",
   "execution_count": 44,
   "id": "4e40a8df-8a1e-4921-9f30-13f5dee3396a",
   "metadata": {},
   "outputs": [
    {
     "name": "stdout",
     "output_type": "stream",
     "text": [
      "a occur 1times\n",
      "b occur 1times\n",
      "karan occur 3times\n",
      "devansh occur 2times\n",
      "rane occur 1times\n",
      "{'a': 1, 'b': 1, 'karan': 3, 'devansh': 2, 'rane': 1}\n"
     ]
    }
   ],
   "source": [
    "\n",
    "# 4. Count the occurrences of an element in a tuple.\n",
    "def count_occurence(tuple1):\n",
    "    my_dict={}\n",
    "    for iteam in tuple1:\n",
    "        if iteam in my_dict:\n",
    "            my_dict[iteam]+=1\n",
    "        else:\n",
    "            my_dict[iteam]=1\n",
    "    for iteam,count in my_dict.items():\n",
    "        print(f'{iteam} occur {count}times')\n",
    "    return my_dict\n",
    "\n",
    "my_tuple=('a','b','karan','devansh','karan','rane','karan','devansh')\n",
    "print(count_occurence(my_tuple))\n"
   ]
  },
  {
   "cell_type": "code",
   "execution_count": 45,
   "id": "8bce61fc-3ab3-4c0e-bd0a-8aea97c5aa97",
   "metadata": {},
   "outputs": [
    {
     "name": "stdout",
     "output_type": "stream",
     "text": [
      "a is at 0\n",
      "b is at 1\n"
     ]
    }
   ],
   "source": [
    "\n",
    "\n",
    "# 5. Find the index of the first occurrence of an element in a tuple.\n",
    "tuple2=('a','b','c','d')\n",
    "elemnt_to_find='a'\n",
    "index=tuple2.index(elemnt_to_find)\n",
    "print(f'{elemnt_to_find} is at {index}')\n",
    "\n",
    "#another way\n",
    "tuple3=('a','b','c','d')\n",
    "elemnt_to_find2='b'\n",
    "index2=None\n",
    "for i in range(len(tuple3)):\n",
    "    if tuple3[i]==elemnt_to_find2:\n",
    "        index2=i\n",
    "        break\n",
    "print(f'{elemnt_to_find2} is at {index2}')\n"
   ]
  },
  {
   "cell_type": "code",
   "execution_count": 46,
   "id": "2c149333-e9f5-4e82-8d6c-cace40214297",
   "metadata": {},
   "outputs": [
    {
     "name": "stdout",
     "output_type": "stream",
     "text": [
      "no element not exist\n",
      "['suraj', 'saddam', 'nasir', 'patil', 'rane', 'devansh', 'arun', 'karan']\n",
      "['suraj', 'saddam', 'nasir', 'patil', 'rane', 'devansh', 'arun', 'karan']\n"
     ]
    }
   ],
   "source": [
    "\n",
    "# 6. Check if an element exists in a tuple.\n",
    "tuple4=(1,2,3,4,5)\n",
    "ele_exist=9\n",
    "l=0\n",
    "for i in tuple4:\n",
    "    if ele_exist in tuple4:\n",
    "        print(\"yes the element exist\")\n",
    "        l+=1\n",
    "        break\n",
    "    else:\n",
    "        print(\"no element not exist\")\n",
    "        l=1\n",
    "        break\n",
    "\n",
    "# 7. Convert a tuple to a list.\n",
    "tuple5=('suraj','saddam','nasir','patil','rane','devansh','arun','karan')\n",
    "list21=[]\n",
    "for iteams in tuple5:\n",
    "    list21.append(iteams)\n",
    "print(list21)\n",
    "\n",
    "# or\n",
    "\n",
    "list_tuple=list(tuple5)\n",
    "print(list_tuple)\n"
   ]
  },
  {
   "cell_type": "code",
   "execution_count": 47,
   "id": "53e2a1df-bc70-42c3-b193-77a6408666a8",
   "metadata": {},
   "outputs": [
    {
     "name": "stdout",
     "output_type": "stream",
     "text": [
      "('suraj', 'saddam', 'nasir', 'patil', 'rane', 'devansh', 'arun', 'karan')\n",
      "('suraj', 'saddam', 'nasir', 'patil', 'rane', 'devansh', 'arun', 'karan')\n"
     ]
    }
   ],
   "source": [
    "\n",
    "# 8. Convert a list to a tuple.\n",
    "list2=['suraj','saddam','nasir','patil','rane','devansh','arun','karan']\n",
    "tuple2=()\n",
    "for iteams in list2:\n",
    "    tuple2+=(iteams,)\n",
    "print(tuple2)\n",
    "\n",
    "# or\n",
    "tuple_list=tuple(list2)\n",
    "print(tuple_list)\n"
   ]
  },
  {
   "cell_type": "code",
   "execution_count": 48,
   "id": "6a155a4a-4bd5-4646-b111-a9fb18fbae7e",
   "metadata": {},
   "outputs": [
    {
     "name": "stdout",
     "output_type": "stream",
     "text": [
      "1 suraj\n",
      "2 saddam\n",
      "3 nasir\n",
      "4 patil\n",
      "5 rane\n",
      "6 devansh\n",
      "7 arun\n",
      "8 karan\n"
     ]
    }
   ],
   "source": [
    "\n",
    "# 9. Unpack the elements of a tuple into variables.\n",
    "tuple5=('suraj','saddam','nasir','patil','rane','devansh','arun','karan')\n",
    "for index,iteam in enumerate(tuple5,start=1):\n",
    "    print(f'{index} {iteam}')"
   ]
  },
  {
   "cell_type": "code",
   "execution_count": 49,
   "id": "a3928360-6712-4cf4-a295-fa880a2c88c4",
   "metadata": {},
   "outputs": [
    {
     "name": "stdout",
     "output_type": "stream",
     "text": [
      "(2, 4, 6, 8, 10)\n"
     ]
    }
   ],
   "source": [
    "\n",
    "# 10. Create a tuple of even numbers from 1 to 10.\n",
    "l=[]\n",
    "tuple1=()\n",
    "for i in range(1,10+1):\n",
    "    if i%2==0:\n",
    "        l.append(i)\n",
    "for iteams in l:\n",
    "    tuple1+=(iteams,)\n",
    "print(tuple1)\n"
   ]
  },
  {
   "cell_type": "code",
   "execution_count": 50,
   "id": "71658bbe-cb54-4247-97cb-4e58740fe6a8",
   "metadata": {},
   "outputs": [
    {
     "name": "stdout",
     "output_type": "stream",
     "text": [
      "[1, 3, 5, 7, 9]\n"
     ]
    }
   ],
   "source": [
    "\n",
    "# 11. Create a tuple of odd numbers from 1 to 10.\n",
    "l=[]\n",
    "tuple1=()\n",
    "for i in range(1,10+1):\n",
    "    if i%2==0:\n",
    "        continue\n",
    "    else:\n",
    "        l.append(i)\n",
    "print(l)"
   ]
  },
  {
   "cell_type": "code",
   "execution_count": 51,
   "id": "19872195-659b-45db-9955-d7ab956f8aaf",
   "metadata": {},
   "outputs": [
    {
     "name": "stdout",
     "output_type": "stream",
     "text": [
      "(1, 2, 3, 4, 5)\n",
      "(6, 7, 8, 9, 10)\n",
      "(1, 2, 3, 4, 5, 6, 7, 8, 9, 10)\n"
     ]
    }
   ],
   "source": [
    "\n",
    "# 12. Concatenate two tuples.\n",
    "l1=[]\n",
    "l2=[]\n",
    "for i in range(1,5+1):\n",
    "    l1.append(i)\n",
    "for j in range(6,10+1):\n",
    "    l2.append(j)\n",
    "tuple1=()\n",
    "for iteam in l1:\n",
    "    tuple1+=(iteam,)\n",
    "tuple2=()\n",
    "for iteams in l2:\n",
    "    tuple2+=(iteams,)\n",
    "print(tuple1)\n",
    "print(tuple2)    \n",
    "concatenate_tuple=()\n",
    "for iteam1 in tuple1:\n",
    "    concatenate_tuple+=(iteam1,)\n",
    "for iteam2 in tuple2:\n",
    "    concatenate_tuple+=(iteam2,)\n",
    "print(concatenate_tuple)"
   ]
  },
  {
   "cell_type": "code",
   "execution_count": 52,
   "id": "9daf7b2b-ace9-4476-bdac-46356805aca1",
   "metadata": {},
   "outputs": [
    {
     "name": "stdout",
     "output_type": "stream",
     "text": [
      "(1, 2, 3)\n",
      "(1, 2, 3, 1, 2, 3, 1, 2, 3)\n"
     ]
    }
   ],
   "source": [
    "\n",
    "# 13. Repeat a tuple three times.\n",
    "l=[]\n",
    "for i in range(1,4):\n",
    "    l.append(i)\n",
    "tuple1=tuple(l)\n",
    "print(tuple1)\n",
    "repeated_tuple=tuple1*3\n",
    "print(repeated_tuple)\n"
   ]
  },
  {
   "cell_type": "code",
   "execution_count": 53,
   "id": "be566a2d-293f-4b5a-9531-2ac5e4fe41e0",
   "metadata": {},
   "outputs": [
    {
     "name": "stdout",
     "output_type": "stream",
     "text": [
      "yes the tuple is empty\n",
      "the tuple is not empty\n"
     ]
    }
   ],
   "source": [
    "\n",
    "# 14. Check if a tuple is empty.\n",
    "tuple1=()\n",
    "is_empty=True\n",
    "for iteam in tuple1:\n",
    "    is_empty=False\n",
    "    break\n",
    "if is_empty:\n",
    "    print(\"yes the tuple is empty\")\n",
    "else:\n",
    "    print(\"the tuple is not empty\")\n",
    "\n",
    "tuple2=(1,2,4)\n",
    "is_empty2=True\n",
    "for iteam in tuple2:\n",
    "    is_empty=False\n",
    "    break\n",
    "if is_empty:\n",
    "    print(\"yes the tuple is empty\")\n",
    "else:\n",
    "    print(\"the tuple is not empty\")\n"
   ]
  },
  {
   "cell_type": "code",
   "execution_count": 54,
   "id": "6160b268-d0bd-499d-876f-7952c63eeb21",
   "metadata": {},
   "outputs": [
    {
     "name": "stdout",
     "output_type": "stream",
     "text": [
      "((0, 1, 2), (0, 1, 2), (0, 1, 2))\n"
     ]
    }
   ],
   "source": [
    "\n",
    "# 15. Create a nested tuple.\n",
    "nested_tuple=()\n",
    "inner_tuple=()\n",
    "for i in range(3):\n",
    "    inner_tuple=()\n",
    "    for j in range(3):\n",
    "        inner_tuple+=(j,)\n",
    "    nested_tuple+=(inner_tuple,)\n",
    "print(nested_tuple)\n",
    "\n"
   ]
  },
  {
   "cell_type": "code",
   "execution_count": 55,
   "id": "50851ab6-5ec9-4e8f-a604-1cf4db769be2",
   "metadata": {},
   "outputs": [
    {
     "name": "stdout",
     "output_type": "stream",
     "text": [
      "0\n",
      "0\n"
     ]
    }
   ],
   "source": [
    "\n",
    "# 16. Access the first element of a nested tuple.\n",
    "tuple1=((0, 1, 2), (0, 1, 2), (0, 1, 2))\n",
    "first_ele_tuple=tuple1[0][0]\n",
    "print(first_ele_tuple)\n",
    "#another way\n",
    "for inner_tuple in tuple1:\n",
    "    first_ele_tuple1=inner_tuple[0]\n",
    "print(first_ele_tuple1)\n"
   ]
  },
  {
   "cell_type": "code",
   "execution_count": 56,
   "id": "9635106b-cceb-46f3-8c4a-6cd3d86c1088",
   "metadata": {},
   "outputs": [
    {
     "name": "stdout",
     "output_type": "stream",
     "text": [
      "(1,)\n",
      "(1,)\n",
      "yes the tuples are equal\n",
      "tuples are equal\n",
      "tuple1 is not greater than tuple2\n"
     ]
    }
   ],
   "source": [
    "\n",
    "# 17. Create a tuple with a single element\n",
    "tuple1=(1,)\n",
    "print(tuple1)\n",
    "tuple2=()\n",
    "for  i in range(1,2):\n",
    "    tuple2+=(i,)\n",
    "print(tuple2)\n",
    "\n",
    "# 18. Compare two tuples.\n",
    "tuple1=(1,2,3)\n",
    "tuple2=(1,2,3)\n",
    "if tuple1==tuple2:\n",
    "    print(\"yes the tuples are equal\")\n",
    "else:\n",
    "    print(\"tuples are not equal\")\n",
    "\n",
    "if tuple1!=tuple2:\n",
    "    print(\"tuples are not equal\")\n",
    "else:\n",
    "    print(\"tuples are equal\")\n",
    "\n",
    "if tuple1>tuple2:\n",
    "    print(\"tuple1 is greater than tuple2\")\n",
    "else:\n",
    "    print(\"tuple1 is not greater than tuple2\")\n"
   ]
  },
  {
   "cell_type": "code",
   "execution_count": 57,
   "id": "de76f306-473b-4cfa-bc20-f846cbb7518f",
   "metadata": {},
   "outputs": [
    {
     "ename": "NameError",
     "evalue": "name 'my_tuple' is not defined",
     "output_type": "error",
     "traceback": [
      "\u001b[0;31m---------------------------------------------------------------------------\u001b[0m",
      "\u001b[0;31mNameError\u001b[0m                                 Traceback (most recent call last)",
      "Cell \u001b[0;32mIn[57], line 4\u001b[0m\n\u001b[1;32m      2\u001b[0m my_tuple\u001b[38;5;241m=\u001b[39m(\u001b[38;5;241m1\u001b[39m,\u001b[38;5;241m2\u001b[39m,\u001b[38;5;241m3\u001b[39m)\n\u001b[1;32m      3\u001b[0m \u001b[38;5;28;01mdel\u001b[39;00m my_tuple\n\u001b[0;32m----> 4\u001b[0m \u001b[38;5;28mprint\u001b[39m(\u001b[43mmy_tuple\u001b[49m)\n",
      "\u001b[0;31mNameError\u001b[0m: name 'my_tuple' is not defined"
     ]
    }
   ],
   "source": [
    "\n",
    "# 19. Delete a tuple.\n",
    "my_tuple=(1,2,3)\n",
    "del my_tuple\n",
    "print(my_tuple)"
   ]
  },
  {
   "cell_type": "code",
   "execution_count": 58,
   "id": "cffe6d32-2898-4aaa-bfbc-c2c68b655808",
   "metadata": {},
   "outputs": [
    {
     "name": "stdout",
     "output_type": "stream",
     "text": [
      "(3, 2)\n"
     ]
    }
   ],
   "source": [
    "\n",
    "# 20. Slice a tuple.\n",
    "tuple1=(2,3,5,3,2,3,4,5,56,56,4,3,453)\n",
    "print(tuple1[3:5])"
   ]
  },
  {
   "cell_type": "code",
   "execution_count": 59,
   "id": "aaa466ea-76f3-4cc6-96e3-f72da2f7df3f",
   "metadata": {},
   "outputs": [
    {
     "name": "stdout",
     "output_type": "stream",
     "text": [
      "453\n"
     ]
    }
   ],
   "source": [
    "\n",
    "# 21. Find the maximum value in a tuple.\n",
    "tuple1=(2,3,5,3,2,3,4,5,56,56,4,3,453)\n",
    "maxi=0\n",
    "for i in tuple1:\n",
    "    if maxi<i:\n",
    "        maxi=i\n",
    "print(maxi)\n"
   ]
  },
  {
   "cell_type": "code",
   "execution_count": 60,
   "id": "a10d6b47-4b2f-45de-891d-f269169d4e49",
   "metadata": {},
   "outputs": [
    {
     "name": "stdout",
     "output_type": "stream",
     "text": [
      "1\n"
     ]
    }
   ],
   "source": [
    "\n",
    "\n",
    "# 22. Find the minimum value in a tuple.\n",
    "tuple1=(2,3,5,3,2,3,4,5,56,1,56,4,3,453)\n",
    "mini=tuple1[0]\n",
    "for i in tuple1:\n",
    "    if mini>i:\n",
    "        mini=i\n",
    "print(mini)\n",
    "\n"
   ]
  },
  {
   "cell_type": "code",
   "execution_count": 61,
   "id": "20e38284-cb88-472e-b8fe-ba7e2f14ad29",
   "metadata": {},
   "outputs": [
    {
     "name": "stdout",
     "output_type": "stream",
     "text": [
      "('h', 'e', 'l', 'l', 'o', ' ', 's', 'h', 'i', 'v', 'a', 'l', 'i')\n",
      "('h', 'e', 'l', 'l', 'o', ' ', 's', 'h', 'i', 'v', 'a', 'l', 'i')\n"
     ]
    }
   ],
   "source": [
    "\n",
    "# 23. Convert a string to a tuple of characters.\n",
    "string1=\"hello shivali\"\n",
    "tuple1=()\n",
    "for char in string1:\n",
    "    tuple1+=(char,)\n",
    "print(tuple1)\n",
    "#or\n",
    "tuple2=tuple(string1)\n",
    "print(tuple2)\n"
   ]
  },
  {
   "cell_type": "code",
   "execution_count": 62,
   "id": "6c82ee59-23de-41ee-b257-4d9d1e00eb1e",
   "metadata": {},
   "outputs": [
    {
     "name": "stdout",
     "output_type": "stream",
     "text": [
      "hello shivali\n",
      "hello shivali\n"
     ]
    }
   ],
   "source": [
    "\n",
    "\n",
    "# 24. Convert a tuple of characters to a string.\n",
    "tuple1=('h', 'e', 'l', 'l', 'o', ' ', 's', 'h', 'i', 'v', 'a', 'l', 'i')\n",
    "string1=\"\"\n",
    "for iteams in tuple1:\n",
    "    string1+=iteams\n",
    "print(string1)\n",
    "#or \n",
    "string2=''.join(tuple1)\n",
    "print(string2)\n"
   ]
  },
  {
   "cell_type": "code",
   "execution_count": 63,
   "id": "cbf7cf93-cc71-4b02-a231-af27b26dc607",
   "metadata": {},
   "outputs": [
    {
     "name": "stdin",
     "output_type": "stream",
     "text": [
      "enter the str iteam to add in tuple: karan\n",
      "enter the integer to  enter in tuple: 2\n",
      "enter the float value to enter in the tuple: 2.4\n",
      "enter the str iteam to add in tuple: dev\n",
      "enter the integer to  enter in tuple: 4\n",
      "enter the float value to enter in the tuple: 4.6\n"
     ]
    },
    {
     "name": "stdout",
     "output_type": "stream",
     "text": [
      "('karan', 2, 2.4, 'dev', 4, 4.6)\n"
     ]
    }
   ],
   "source": [
    "\n",
    "# 25. Create a tuple from multiple data types.\n",
    "tuple_var=()\n",
    "for i in range(1,3):\n",
    "    iteam=input(\"enter the str iteam to add in tuple:\")\n",
    "    iteam2=int(input(\"enter the integer to  enter in tuple:\"))\n",
    "    iteam3=float(input(\"enter the float value to enter in the tuple:\"))\n",
    "    tuple_var+=(iteam,)\n",
    "    tuple_var+=(iteam2,)\n",
    "    tuple_var+=(iteam3,)\n",
    "print(tuple_var)\n"
   ]
  },
  {
   "cell_type": "code",
   "execution_count": 64,
   "id": "03bb24b3-4c26-4a03-986f-1ce2a670ecfd",
   "metadata": {},
   "outputs": [
    {
     "name": "stdout",
     "output_type": "stream",
     "text": [
      "tuples are identical\n",
      "tuples are not identical\n"
     ]
    }
   ],
   "source": [
    "\n",
    "# 26. Check if two tuples are identical.\n",
    "tuple1=(1,2,3)\n",
    "tuple2=(1,2,3)\n",
    "tuple3=(3,4,5)\n",
    "tuple4=(5,2,1)\n",
    "if tuple1==tuple2:\n",
    "    print(\"tuples are identical\")\n",
    "else:\n",
    "    print(\"tuples are not identical\")\n",
    "\n",
    "\n",
    "if tuple3==tuple4:\n",
    "    print(\"tuples are identical\")\n",
    "else:\n",
    "    print(\"tuples are not identical\")\n"
   ]
  },
  {
   "cell_type": "code",
   "execution_count": 65,
   "id": "da232322-f530-460f-9f19-92837a919df8",
   "metadata": {},
   "outputs": [
    {
     "name": "stdout",
     "output_type": "stream",
     "text": [
      "Here is out sorted tuple : (1, 2, 3, 4, 5)\n"
     ]
    }
   ],
   "source": [
    "\n",
    "# 27. Sort the elements of a tuple.\n",
    "\n",
    "def bubble_sort(arr):\n",
    "    n=len(arr)\n",
    "    for  i in range(n):\n",
    "        for j in range(0,n-i-1):\n",
    "            if arr[j]>arr[j+1]:\n",
    "                arr[j],arr[j+1]=arr[j+1],arr[j]\n",
    "my_tuple = (3, 1, 2, 5, 4)\n",
    "\n",
    "my_list = list(my_tuple)\n",
    "\n",
    "bubble_sort(my_list)\n",
    "\n",
    "sorted_tuple = tuple(my_list)\n",
    "\n",
    "print(\"Here is out sorted tuple :\",sorted_tuple)\n",
    "\n",
    "\n",
    "\n"
   ]
  },
  {
   "cell_type": "code",
   "execution_count": 66,
   "id": "21afc959-843a-4f42-89dc-6d9aa52563c7",
   "metadata": {},
   "outputs": [
    {
     "name": "stdout",
     "output_type": "stream",
     "text": [
      "('1', '2', '3', '4', '5')\n",
      "('1', '2', '3', '4', '5')\n"
     ]
    }
   ],
   "source": [
    "\n",
    "\n",
    "\n",
    "# 28. Convert a tuple of integers to a tuple of strings.\n",
    "tuple_int=(1,2,3,4,5)\n",
    "str1=\"\"\n",
    "for iteam in tuple_int:\n",
    "    str1+=str(iteam,)\n",
    "\n",
    "tuple_str=()\n",
    "for char in str1:\n",
    "    tuple_str+=(char,)\n",
    "print(tuple_str)\n",
    "# or\n",
    "tuple_str2=tuple(str(x) for x in tuple_int)\n",
    "print(tuple_str2)\n"
   ]
  },
  {
   "cell_type": "code",
   "execution_count": 67,
   "id": "f62edd33-0878-4c13-82cb-de3cbe16264f",
   "metadata": {},
   "outputs": [
    {
     "name": "stdout",
     "output_type": "stream",
     "text": [
      "(1, 2, 3, 4, 5)\n"
     ]
    }
   ],
   "source": [
    "\n",
    "# 29. Convert a tuple of strings to a tuple of integers.\n",
    "tuple_str=('1', '2', '3', '4', '5')\n",
    "tuple_int=()\n",
    "for iteam in tuple_str:\n",
    "    int_val=int(iteam)\n",
    "    tuple_int+=(int_val,)\n",
    "print(tuple_int)\n",
    "\n"
   ]
  },
  {
   "cell_type": "code",
   "execution_count": 68,
   "id": "a7eea84c-24b6-471c-ad4a-9d10dad01d38",
   "metadata": {},
   "outputs": [
    {
     "name": "stdout",
     "output_type": "stream",
     "text": [
      "(1, 2, 3, 5, 7, 3)\n"
     ]
    }
   ],
   "source": [
    "\n",
    "# 30. Merge two tuples.\n",
    "tuple1=(1,2,3)\n",
    "tuple2=(5,7,3)\n",
    "tuple3=()\n",
    "for i in tuple1:\n",
    "    tuple3+=(i,)\n",
    "for j in tuple2:\n",
    "    tuple3+=(j,)\n",
    "print(tuple3)\n",
    "\n"
   ]
  },
  {
   "cell_type": "code",
   "execution_count": 69,
   "id": "04a2fef8-863c-4bf1-b068-1ff11cedd551",
   "metadata": {},
   "outputs": [
    {
     "name": "stdout",
     "output_type": "stream",
     "text": [
      "(1, 2, 3, 4, 5, 6, 7, 8)\n"
     ]
    }
   ],
   "source": [
    "\n",
    "# 31. Flatten a nested tuple.\n",
    "def flat_tuple(nested_tuple):\n",
    "    flat_list=[]\n",
    "    for iteam in nested_tuple:\n",
    "        if isinstance(iteam,tuple):\n",
    "            flat_list.extend(flat_tuple(iteam))\n",
    "        else:\n",
    "            flat_list.append(iteam)\n",
    "    return tuple(flat_list)\n",
    "\n",
    "nested_tuple = ((1, 2, (3, 4)), 5, (6, (7, 8)))\n",
    "flat_tuple1=flat_tuple(nested_tuple)\n",
    "print(flat_tuple1)\n"
   ]
  },
  {
   "cell_type": "code",
   "execution_count": 70,
   "id": "e6d78e53-5825-4787-9532-c7ed9e3eaab7",
   "metadata": {},
   "outputs": [
    {
     "name": "stdout",
     "output_type": "stream",
     "text": [
      "here is tuple of 5 prime num: (2, 3, 5, 7, 11)\n"
     ]
    }
   ],
   "source": [
    "\n",
    "# 32. Create a tuple of the first 5 prime numbers.\n",
    "def prime(num):\n",
    "    if num<=1:\n",
    "        return False\n",
    "    for i in range(2,num):\n",
    "        if num%i==0:\n",
    "            return False\n",
    "    return True\n",
    "primes=()\n",
    "for num in range(2,12):\n",
    "    if prime(num):\n",
    "        primes+=(num,)\n",
    "print(\"here is tuple of 5 prime num:\",primes)\n"
   ]
  },
  {
   "cell_type": "code",
   "execution_count": 71,
   "id": "92f52f2b-5c7d-4be2-8511-08f5f49d9f96",
   "metadata": {},
   "outputs": [
    {
     "name": "stdout",
     "output_type": "stream",
     "text": [
      "yes the tuple is palindrome\n"
     ]
    }
   ],
   "source": [
    "\n",
    "# 33. Check if a tuple is a palindrome.\n",
    "def is_palindrome(tuple1):\n",
    "    if len(tuple1)<=1:\n",
    "        return True\n",
    "    if tuple1[0]==tuple1[-1]:\n",
    "        return is_palindrome (tuple1[1:-1])\n",
    "    return False\n",
    "my_tuple = (1, 2, 3, 3, 2, 1)\n",
    "is_palindrome1=is_palindrome(my_tuple)\n",
    "if is_palindrome1:\n",
    "    print(\"yes the tuple is palindrome\")\n",
    "else:\n",
    "    print(\"tuple is not palindrome\")\n"
   ]
  },
  {
   "cell_type": "code",
   "execution_count": 72,
   "id": "a1ffeb25-2942-42a5-9ddb-393fd306c893",
   "metadata": {},
   "outputs": [
    {
     "name": "stdout",
     "output_type": "stream",
     "text": [
      "(1, 4, 9, 16, 25)\n"
     ]
    }
   ],
   "source": [
    "\n",
    "\n",
    "# 34. Create a tuple of squares of numbers from 1 to 5.\n",
    "tuple_sq=()\n",
    "for i in range(1,6):\n",
    "    tuple_sq+=(i**2,)\n",
    "print(tuple_sq)\n"
   ]
  },
  {
   "cell_type": "code",
   "execution_count": 73,
   "id": "bcfd02e5-716d-4b22-ae7e-3eb3204cd6f8",
   "metadata": {},
   "outputs": [
    {
     "name": "stdout",
     "output_type": "stream",
     "text": [
      "(2, 4, 6, 8, 10)\n"
     ]
    }
   ],
   "source": [
    "\n",
    "# 35. Filter out all even numbers from a tuple.\n",
    "tuple_all=(1,2,3,4,5,6,7,8,9,10)\n",
    "tuple_even=()\n",
    "for i in tuple_all:\n",
    "    if i%2==0:\n",
    "        tuple_even+=(i,)\n",
    "print(tuple_even)\n",
    "\n"
   ]
  },
  {
   "cell_type": "code",
   "execution_count": 74,
   "id": "6c0f0052-e6ac-4f77-b733-3ca9ca44dcd8",
   "metadata": {},
   "outputs": [
    {
     "name": "stdout",
     "output_type": "stream",
     "text": [
      "(2, 4, 6, 8, 10, 12, 14, 16, 18, 20)\n"
     ]
    }
   ],
   "source": [
    "\n",
    "\n",
    "# 36. Multiply all elements in a tuple by 2.\n",
    "tuple_2=(1,2,3,4,5,6,7,8,9,10)\n",
    "tuple_multi_2=()\n",
    "for i in tuple_2:\n",
    "    tuple_multi_2+=(i*2,)\n",
    "print(tuple_multi_2)"
   ]
  },
  {
   "cell_type": "code",
   "execution_count": 75,
   "id": "c97946fd-ee66-4c23-9733-7aa3c3fd11ca",
   "metadata": {},
   "outputs": [
    {
     "name": "stdout",
     "output_type": "stream",
     "text": [
      "()\n"
     ]
    }
   ],
   "source": [
    "\n",
    "# 37. Create a tuple of random numbers.\n",
    "import random\n",
    "tuple1_random=()\n",
    "max_val=100\n",
    "min_val=1\n",
    "size=10\n",
    "for i in range(size):\n",
    "    random_num=random.randint(min_val,max_val)\n",
    "    tuple1+=(random_num,)\n",
    "print(tuple1_random)\n",
    "\n"
   ]
  },
  {
   "cell_type": "code",
   "execution_count": 76,
   "id": "306411bc-3995-439d-a35e-0fb510d0cb14",
   "metadata": {},
   "outputs": [
    {
     "name": "stdout",
     "output_type": "stream",
     "text": [
      "Is (1, 2, 3, 4, 5) sorted? True\n",
      "Is (4, 2, 7, 1, 5) sorted? False\n"
     ]
    }
   ],
   "source": [
    "\n",
    "# 38. Check if a tuple is sorted.\n",
    "def is_sorted(tuple1):\n",
    "    n=len(tuple1)\n",
    "    for i in range(n-1):\n",
    "        if tuple1[i]>tuple1[i+1]:\n",
    "            return False\n",
    "    return True\n",
    "sorted_tuple = (1, 2, 3, 4, 5)\n",
    "unsorted_tuple = (4, 2, 7, 1, 5)\n",
    "\n",
    "result_sorted = is_sorted(sorted_tuple)\n",
    "result_unsorted = is_sorted(unsorted_tuple)\n",
    "\n",
    "print(f\"Is {sorted_tuple} sorted? {result_sorted}\")\n",
    "print(f\"Is {unsorted_tuple} sorted? {result_unsorted}\")\n"
   ]
  },
  {
   "cell_type": "code",
   "execution_count": 77,
   "id": "381107e3-50df-42fe-a23d-7b15eba34010",
   "metadata": {},
   "outputs": [
    {
     "name": "stdout",
     "output_type": "stream",
     "text": [
      "(4, 5, 6, 7, 1, 2)\n"
     ]
    }
   ],
   "source": [
    "\n",
    "# 39. Rotate a tuple to the left by `n` positions.\n",
    "def rotate_tuple_left(tup,n):\n",
    "    length=len(tup)\n",
    "    if length==0:\n",
    "        return tup\n",
    "    n=n%length\n",
    "    rotate_tuple=tup[n:]+tup[:n]\n",
    "    return rotate_tuple\n",
    "\n",
    "tuple1=(1,2,4,5,6,7)\n",
    "n=2\n",
    "rotate_tuple=rotate_tuple_left(tuple1,n)\n",
    "print(rotate_tuple)"
   ]
  },
  {
   "cell_type": "code",
   "execution_count": 78,
   "id": "a6232b05-c47c-4533-81fa-90b8b66636ce",
   "metadata": {},
   "outputs": [
    {
     "name": "stdout",
     "output_type": "stream",
     "text": [
      "(4, 5, 1, 2, 3)\n"
     ]
    }
   ],
   "source": [
    "\n",
    "# 40. Rotate a tuple to the right by `n` positions.\n",
    "def rotate_tuple_left(tup,n):\n",
    "    length=len(tup)\n",
    "    if length==0:\n",
    "        return tup\n",
    "    n=n%length\n",
    "    rotate_tuple=tup[-n:]+tup[:-n]\n",
    "    return rotate_tuple\n",
    "\n",
    "tuple1=(1,2,3,4,5)\n",
    "n=2\n",
    "rotate_tuple=rotate_tuple_left(tuple1,n)\n",
    "print(rotate_tuple)\n"
   ]
  },
  {
   "cell_type": "code",
   "execution_count": 81,
   "id": "f27e0443-bad9-47e3-924a-8aac2ac3d17e",
   "metadata": {},
   "outputs": [
    {
     "name": "stdin",
     "output_type": "stream",
     "text": [
      "enter the number: 10\n"
     ]
    },
    {
     "name": "stdout",
     "output_type": "stream",
     "text": [
      "(0, 1, 1, 2, 3, 5, 8, 13, 21, 34)\n"
     ]
    }
   ],
   "source": [
    "\n",
    "# 41. Create a tuple of the first 5 Fibonacci numbers.\n",
    "first_term=0\n",
    "second_term=1\n",
    "n=int(input(\"enter the number:\"))\n",
    "tuple_fib=()\n",
    "for i in range(1,n+1):\n",
    "    tuple_fib+=(first_term,)\n",
    "    next_term=first_term+second_term\n",
    "    first_term=second_term\n",
    "    second_term=next_term\n",
    "print(tuple_fib)"
   ]
  },
  {
   "cell_type": "code",
   "execution_count": 82,
   "id": "71b2e986-e334-4989-818e-873d58c9df6a",
   "metadata": {},
   "outputs": [
    {
     "name": "stdin",
     "output_type": "stream",
     "text": [
      "run the loop: 5\n",
      "enter the iteam to add in tuple karan\n",
      "enter the iteam to add in tuple dev\n",
      "enter the iteam to add in tuple rane\n",
      "enter the iteam to add in tuple arun\n",
      "enter the iteam to add in tuple suraj\n"
     ]
    },
    {
     "name": "stdout",
     "output_type": "stream",
     "text": [
      "('karan', 'dev', 'rane', 'arun', 'suraj')\n"
     ]
    }
   ],
   "source": [
    "\n",
    "# 42. Create a tuple from user input.\n",
    "user_tuple=()\n",
    "n=int(input(\"run the loop:\"))\n",
    "for i in range(1,n+1):\n",
    "    iteam=input(\"enter the iteam to add in tuple\")\n",
    "    user_tuple+=(iteam,)\n",
    "print(user_tuple)\n",
    "\n"
   ]
  },
  {
   "cell_type": "code",
   "execution_count": 83,
   "id": "c942e8bd-2f03-4542-85ad-5ac13b428ef5",
   "metadata": {},
   "outputs": [
    {
     "name": "stdout",
     "output_type": "stream",
     "text": [
      "(1, 2, 5, 4, 3)\n"
     ]
    }
   ],
   "source": [
    "\n",
    "\n",
    "# 43. Swap two elements in a tuple.\n",
    "def swapping(tuple1,index1,index2):\n",
    "    tuple1=list(tuple1)\n",
    "    tuple1[index1],tuple1[index2]=tuple1[index2],tuple1[index1]\n",
    "    swapped_tuple=tuple(tuple1)\n",
    "    return swapped_tuple\n",
    "\n",
    "\n",
    "original_tuple = (1, 2, 3, 4, 5)\n",
    "result=swapping(original_tuple,2,4)\n",
    "print(result)\n",
    "\n"
   ]
  },
  {
   "cell_type": "code",
   "execution_count": 84,
   "id": "53355093-ba23-4e22-b455-f07109bc2efa",
   "metadata": {},
   "outputs": [
    {
     "name": "stdout",
     "output_type": "stream",
     "text": [
      "(6, 5, 4, 3, 2, 1)\n"
     ]
    }
   ],
   "source": [
    "\n",
    "\n",
    "# 44. Reverse the elements of a tuple.\n",
    "tuple1=(1,2,3,4,5,6)\n",
    "rev_tuple=()\n",
    "for iteam in tuple1[::-1]:\n",
    "    rev_tuple+=(iteam,)\n",
    "print(rev_tuple)\n"
   ]
  },
  {
   "cell_type": "code",
   "execution_count": 85,
   "id": "d5807909-8690-48b7-a004-e406b0185a9d",
   "metadata": {},
   "outputs": [
    {
     "name": "stdin",
     "output_type": "stream",
     "text": [
      "enter the number: 7\n"
     ]
    },
    {
     "name": "stdout",
     "output_type": "stream",
     "text": [
      "1 2 4 8 16 32 64 "
     ]
    }
   ],
   "source": [
    "\n",
    "# 45. Create a tuple of the first `n` powers of 2.\n",
    "n=int(input(\"enter the number:\"))\n",
    "for i in range(n):\n",
    "    power_off=2**i\n",
    "    print(power_off,end=' ')\n"
   ]
  },
  {
   "cell_type": "code",
   "execution_count": 86,
   "id": "30e63e5b-a40a-4dcd-bae8-5d85bc430e60",
   "metadata": {},
   "outputs": [
    {
     "name": "stdout",
     "output_type": "stream",
     "text": [
      "devansh\n"
     ]
    }
   ],
   "source": [
    "\n",
    "# 46. Find the longest string in a tuple of strings.\n",
    "tuple_str=('aniket','harsh','arun','suraj','karan','devansh')\n",
    "long_str=tuple_str[1]\n",
    "for iteam in tuple_str:\n",
    "    if len(iteam)>len(long_str):\n",
    "        long_str=iteam\n",
    "print(long_str)\n",
    "\n"
   ]
  },
  {
   "cell_type": "code",
   "execution_count": 87,
   "id": "f9b5e32c-7d0b-481b-ae59-8d040ebe92e8",
   "metadata": {},
   "outputs": [
    {
     "name": "stdout",
     "output_type": "stream",
     "text": [
      "arun\n"
     ]
    }
   ],
   "source": [
    "\n",
    "# 47. Find the shortest string in a tuple of strings.\n",
    "tuple_str=('aniket','harsh','arun','suraj','karan','devansh')\n",
    "short_str=tuple_str[1]\n",
    "for iteam in tuple_str:\n",
    "    if len(iteam)<len(short_str):\n",
    "        short_str=iteam\n",
    "print(short_str)\n"
   ]
  },
  {
   "cell_type": "code",
   "execution_count": 88,
   "id": "c1d03a90-4083-4e61-929f-8e734c15cdd6",
   "metadata": {},
   "outputs": [
    {
     "name": "stdin",
     "output_type": "stream",
     "text": [
      "enter the number of traingular number you want: 10\n"
     ]
    },
    {
     "name": "stdout",
     "output_type": "stream",
     "text": [
      "(1, 3, 6, 10, 15, 21, 28, 36, 45, 55)\n"
     ]
    }
   ],
   "source": [
    "\n",
    "\n",
    "# 48. Create a tuple of the first `n` triangular numbers.\n",
    "def traingular(n):\n",
    "    traingular_tuple=()\n",
    "    for i in range(1,n+1):\n",
    "        traingular_no=0\n",
    "        for j in range(1,i+1):\n",
    "            traingular_no+=j\n",
    "        traingular_tuple+=(traingular_no,)\n",
    "    return traingular_tuple\n",
    "\n",
    "n= int(input(\"enter the number of traingular number you want:\"))\n",
    "traingular_tuple=traingular(n)\n",
    "print(traingular_tuple)\n",
    "\n"
   ]
  },
  {
   "cell_type": "code",
   "execution_count": 89,
   "id": "0adbd961-fa23-4c4a-9dfa-a8c725e7ffcc",
   "metadata": {},
   "outputs": [
    {
     "name": "stdout",
     "output_type": "stream",
     "text": [
      "yes the tuple contain another tuple as a subsequence\n"
     ]
    }
   ],
   "source": [
    "\n",
    "\n",
    "# 49. Check if a tuple contains another tuple as a subsequence.\n",
    "def is_subsequence(main_tuple,sub_tuple):\n",
    "    sub_len=len(sub_tuple)\n",
    "    main_len=len(main_tuple)\n",
    "    for i in range(main_len+1):\n",
    "        if main_tuple[i:i + sub_len]==sub_tuple:\n",
    "            return True\n",
    "    return False\n",
    "\n",
    "main_tuple=(1,2,3,4,5,6,7)\n",
    "sub_tuple=(3,4,5)\n",
    "result=is_subsequence(main_tuple,sub_tuple)\n",
    "if result:\n",
    "    print(\"yes the tuple contain another tuple as a subsequence\")\n",
    "else:\n",
    "    print(\"no the tuple does not contain another tuple in subsequence\")\n",
    "\n"
   ]
  },
  {
   "cell_type": "code",
   "execution_count": 90,
   "id": "bda81307-3b9d-4498-8e4f-d9aca111762b",
   "metadata": {},
   "outputs": [
    {
     "name": "stdout",
     "output_type": "stream",
     "text": [
      "(0, 1, 0, 1, 0, 1, 0, 1, 0, 1)\n"
     ]
    }
   ],
   "source": [
    "\n",
    "# 50. Create a tuple of alternating 1s and 0s of length `n`.\n",
    "def alternating_tuple(n):\n",
    "    alternating_tuple1=()\n",
    "    for i in range(n):\n",
    "        alternating_tuple1+=(i%2,)\n",
    "    return alternating_tuple1\n",
    "\n",
    "n=10\n",
    "result=alternating_tuple(n)\n",
    "print(result)\n"
   ]
  },
  {
   "cell_type": "markdown",
   "id": "74b48335-6baf-431e-aeb7-b832003f4bd6",
   "metadata": {},
   "source": [
    "Set Based Questions"
   ]
  },
  {
   "cell_type": "code",
   "execution_count": 91,
   "id": "c1d6f5bb-711d-4ece-a62e-3874d8c50c55",
   "metadata": {},
   "outputs": [
    {
     "name": "stdout",
     "output_type": "stream",
     "text": [
      "here is a set of int from 1 to 5: {1, 2, 3, 4, 5}\n"
     ]
    }
   ],
   "source": [
    "\n",
    "# 1. Create a set with integers from 1 to 5.\n",
    "my_set=set()\n",
    "for i in range(1,6):\n",
    "    my_set.add(i)\n",
    "print(\"here is a set of int from 1 to 5:\",my_set)\n"
   ]
  },
  {
   "cell_type": "code",
   "execution_count": 92,
   "id": "ce833a3d-3144-4bb0-8e33-e819c1598fec",
   "metadata": {},
   "outputs": [
    {
     "name": "stdout",
     "output_type": "stream",
     "text": [
      "here is element karan added to a set:  {'dev', 'rane', 'karan'}\n"
     ]
    }
   ],
   "source": [
    "\n",
    "# 2. Add an element to a set.\n",
    "my_set={'dev','rane'}\n",
    "ele_add='karan'\n",
    "my_set.add(ele_add)\n",
    "print(\"here is element karan added to a set: \",my_set)\n"
   ]
  },
  {
   "cell_type": "code",
   "execution_count": 93,
   "id": "7ecc52a6-0a48-4431-8883-301046b2cb7c",
   "metadata": {},
   "outputs": [
    {
     "name": "stdout",
     "output_type": "stream",
     "text": [
      "here is element karan remove from   a set:  {'dev', 'rane'}\n"
     ]
    }
   ],
   "source": [
    "\n",
    "# 3. Remove an element from a set.\n",
    "my_set={'karan','dev','rane'}\n",
    "ele_remove='karan'\n",
    "my_set.remove(ele_remove)\n",
    "print(\"here is element karan remove from   a set: \",my_set)\n",
    "\n"
   ]
  },
  {
   "cell_type": "code",
   "execution_count": 94,
   "id": "8ab79d00-1871-4da1-9494-98b3a83390fe",
   "metadata": {},
   "outputs": [
    {
     "name": "stdout",
     "output_type": "stream",
     "text": [
      "yes the elementdev is present in the set\n"
     ]
    }
   ],
   "source": [
    "\n",
    "# 4. Check if an element exists in a set.\n",
    "my_set={'karan','dev','rane'}\n",
    "ele_to_check='dev'\n",
    "f=0\n",
    "for ele in my_set:\n",
    "    if ele==ele_to_check:\n",
    "        print(f'yes the element{ele_to_check} is present in the set')\n",
    "        f=1\n",
    "        break\n",
    "    else:\n",
    "        print(\"the element is not present in the set\")\n",
    "        f=2\n",
    "        break\n"
   ]
  },
  {
   "cell_type": "code",
   "execution_count": 95,
   "id": "29211d60-f35b-4301-a2ca-0a6714065851",
   "metadata": {},
   "outputs": [
    {
     "name": "stdout",
     "output_type": "stream",
     "text": [
      "length of the {'dev', 'rane', 'karan'} is : 3\n"
     ]
    }
   ],
   "source": [
    "\n",
    "\n",
    "# 5. Find the length of a set without using the `len()` function.\n",
    "my_set={'karan','dev','rane'}\n",
    "length=0\n",
    "for i in my_set:\n",
    "    length+=1\n",
    "print(f'length of the {my_set} is : {length}')\n"
   ]
  },
  {
   "cell_type": "code",
   "execution_count": 96,
   "id": "019c2d66-2ea5-4cad-b089-0556f864343c",
   "metadata": {},
   "outputs": [
    {
     "name": "stdout",
     "output_type": "stream",
     "text": [
      "set()\n"
     ]
    }
   ],
   "source": [
    "\n",
    "# 6. Clear all elements from a set.\n",
    "my_set={'karan','dev','rane'}\n",
    "my_set_copy=my_set.copy()\n",
    "for iteams in my_set_copy:\n",
    "    my_set.remove(iteams)\n",
    "print(my_set)\n"
   ]
  },
  {
   "cell_type": "code",
   "execution_count": 97,
   "id": "145286e9-c367-4552-95c2-d45bbfde7702",
   "metadata": {},
   "outputs": [
    {
     "name": "stdout",
     "output_type": "stream",
     "text": [
      "{2, 4, 6, 8, 10}\n"
     ]
    }
   ],
   "source": [
    "\n",
    "# 7. Create a set of even numbers from 1 to 10.\n",
    "set_even_no=set()\n",
    "for i in range(1,11):\n",
    "    if i%2==0:\n",
    "        set_even_no.add(i)\n",
    "print(set_even_no)\n"
   ]
  },
  {
   "cell_type": "code",
   "execution_count": 98,
   "id": "327dd1bd-2655-47b9-a6b2-bb9c34fa43bb",
   "metadata": {},
   "outputs": [
    {
     "name": "stdout",
     "output_type": "stream",
     "text": [
      "{1, 3, 5, 7, 9}\n"
     ]
    }
   ],
   "source": [
    "\n",
    "# 8. Create a set of odd numbers from 1 to 10.\n",
    "set_odd_no=set()\n",
    "for i in range(1,11):\n",
    "    if i%2!=0:\n",
    "        set_odd_no.add(i)\n",
    "print(set_odd_no)\n"
   ]
  },
  {
   "cell_type": "code",
   "execution_count": 99,
   "id": "db8a3d96-7a33-42c6-acad-e2f5c5de8d1b",
   "metadata": {},
   "outputs": [
    {
     "name": "stdout",
     "output_type": "stream",
     "text": [
      "{1, 2, 4, 6, 7, 9}\n",
      "{1, 2, 4, 6, 7, 9}\n"
     ]
    }
   ],
   "source": [
    "\n",
    "# 9. Find the union of two sets.\n",
    "set1={1,2,4}\n",
    "set2={6,7,9}\n",
    "union_set=set1.union(set2)\n",
    "print(union_set)\n",
    "# or\n",
    "union_set2=set()\n",
    "for i in set1:\n",
    "    union_set2.add(i)\n",
    "for j in set2:\n",
    "    union_set2.add(j)\n",
    "print(union_set2)    \n"
   ]
  },
  {
   "cell_type": "code",
   "execution_count": 100,
   "id": "44d3bf8e-953a-4177-9409-8f57b1a38536",
   "metadata": {},
   "outputs": [
    {
     "name": "stdout",
     "output_type": "stream",
     "text": [
      "{3, 4, 5}\n",
      "{3, 4, 5}\n"
     ]
    }
   ],
   "source": [
    "\n",
    "\n",
    "# 10. Find the intersection of two sets.\n",
    "\n",
    "set1 = {1, 2, 3, 4, 5}\n",
    "set2 = {3, 4, 5, 6, 7}\n",
    "\n",
    "set_intersection=set1.intersection(set2)\n",
    "print(set_intersection)\n",
    "\n",
    "# or\n",
    "\n",
    "set_intersection2=set()\n",
    "for ele in set1:\n",
    "    if ele in set2:\n",
    "        set_intersection2.add(ele)\n",
    "print(set_intersection2)\n",
    "\n"
   ]
  },
  {
   "cell_type": "code",
   "execution_count": 101,
   "id": "b4d57653-8433-4573-88d5-0cce6c13a613",
   "metadata": {},
   "outputs": [
    {
     "name": "stdout",
     "output_type": "stream",
     "text": [
      "the diff in set1 - set2: {1, 2}\n",
      "the diff in set1 - set2: {1, 2}\n",
      "the diff in set1 - set2: {1, 2}\n"
     ]
    }
   ],
   "source": [
    "\n",
    "# 11. Find the difference between two sets.\n",
    "set1 = {1, 2, 3, 4, 5}\n",
    "set2 = {3, 4, 5, 6, 7}\n",
    "\n",
    "set_diff1=set1-set2\n",
    "print(\"the diff in set1 - set2:\",set_diff1)\n",
    "\n",
    "# or\n",
    "\n",
    "set_diff2=set1.difference(set2)\n",
    "print(\"the diff in set1 - set2:\",set_diff2)\n",
    "\n",
    "# or\n",
    "set_diff3=set()\n",
    "for i in set1:\n",
    "    if i not in set2:\n",
    "        set_diff3.add(i)\n",
    "print(\"the diff in set1 - set2:\",set_diff3)\n",
    "\n"
   ]
  },
  {
   "cell_type": "code",
   "execution_count": 102,
   "id": "36acdf79-9bd5-411c-b6d2-d9912503e57d",
   "metadata": {},
   "outputs": [
    {
     "name": "stdout",
     "output_type": "stream",
     "text": [
      "yes, the set is the subset of another set\n",
      "yes, the set is the subset of another set\n",
      "yes, the set is the subset of another set\n"
     ]
    }
   ],
   "source": [
    "\n",
    "\n",
    "# 12. Check if a set is a subset of another set.\n",
    "set1 = {1, 2, 3, 4, 5}\n",
    "set2 = {1, 2, 3}\n",
    "subset1=set2.issubset(set1)\n",
    "if subset1:\n",
    "    print(\"yes, the set is the subset of another set\")\n",
    "else:\n",
    "    print(\"no, the set is not the subset of another set\")\n",
    "    \n",
    "#or\n",
    "def is_subset(superset,subset):\n",
    "    for ele in subset:\n",
    "        if ele not in superset:\n",
    "            return False\n",
    "    return True\n",
    "\n",
    "subset2=is_subset(set1,set2)\n",
    "if subset2:\n",
    "    print(\"yes, the set is the subset of another set\")\n",
    "else:\n",
    "    print(\"no, the set is not the subset of another set\")\n",
    "    \n",
    "#or\n",
    "subset3=set2<=set1\n",
    "if subset3:\n",
    "    print(\"yes, the set is the subset of another set\")\n",
    "else:\n",
    "    print(\"no, the set is not the subset of another set\")\n",
    "    \n"
   ]
  },
  {
   "cell_type": "code",
   "execution_count": 103,
   "id": "a25be329-09e9-458a-884e-7b5d40379b02",
   "metadata": {},
   "outputs": [
    {
     "name": "stdout",
     "output_type": "stream",
     "text": [
      "yes the set is the superset of another set\n",
      "yes the set is the superset of another set\n",
      "yes, the set is the subset of another set\n"
     ]
    }
   ],
   "source": [
    "\n",
    "# 13. Check if a set is a superset of another set.\n",
    "set1 = {1, 2, 3, 4, 5}\n",
    "set2 = {1, 2, 3}\n",
    "superset1=set1.issuperset(set2)\n",
    "if superset1:\n",
    "    print(\"yes the set is the superset of another set\")\n",
    "else:\n",
    "    print(\"no the set is not the superset of another set\")\n",
    "\n",
    "#or\n",
    "superset2=set1>=set2\n",
    "if superset2:\n",
    "    print(\"yes the set is the superset of another set\")\n",
    "else:\n",
    "    print(\"no the set is not the superset of another set\")\n",
    "\n",
    "#or\n",
    "def is_superset(superset,subset):\n",
    "    for ele in subset:\n",
    "        if ele not in superset:\n",
    "            return False\n",
    "    return True\n",
    "\n",
    "subset2=is_superset(set1,set2)\n",
    "if superset2:\n",
    "    print(\"yes, the set is the subset of another set\")\n",
    "else:\n",
    "    print(\"no, the set is not the subset of another set\")\n",
    "\n",
    "\n"
   ]
  },
  {
   "cell_type": "code",
   "execution_count": 104,
   "id": "706faa23-6ba8-49d0-bc88-8ba2ec6cda9c",
   "metadata": {},
   "outputs": [
    {
     "name": "stdout",
     "output_type": "stream",
     "text": [
      "{1, 2, 3, 4, 5}\n",
      "{1, 2, 3, 4, 5}\n"
     ]
    }
   ],
   "source": [
    "\n",
    "# 14. Create a set from a list.\n",
    "my_list = [1, 2, 3, 4, 5]\n",
    "my_set = set(my_list)\n",
    "print(my_set)\n",
    "# or\n",
    "set2_list=set() \n",
    "for i in my_list:\n",
    "    set2_list.add(i)\n",
    "print(set2_list)"
   ]
  },
  {
   "cell_type": "code",
   "execution_count": 105,
   "id": "810e1921-b43c-4ccd-a1d9-2662089d4093",
   "metadata": {},
   "outputs": [
    {
     "name": "stdout",
     "output_type": "stream",
     "text": [
      "[1, 2, 3, 4, 5]\n",
      "[1, 2, 3, 4, 5]\n"
     ]
    }
   ],
   "source": [
    "\n",
    "# 15. Convert a set to a list.\n",
    "my_set = {1, 2, 3, 4, 5}\n",
    "my_list = list(my_set)\n",
    "print(my_list)\n",
    "\n",
    "# or\n",
    "my_list2=[] \n",
    "for ele in my_set:\n",
    "    my_list2.append(ele)\n",
    "print(my_list2)"
   ]
  },
  {
   "cell_type": "code",
   "execution_count": 106,
   "id": "70f65808-2642-4b33-94f0-d965901e3c6a",
   "metadata": {},
   "outputs": [
    {
     "name": "stdout",
     "output_type": "stream",
     "text": [
      "updated set : {2, 3, 4, 5}\n",
      "remove element : 1\n",
      "updated set : {2, 3, 4}\n",
      "remove element : 5\n"
     ]
    }
   ],
   "source": [
    "\n",
    "# 16. Remove a random element from a set.\n",
    "my_set = {1, 2, 3, 4, 5}\n",
    "removed_ele=my_set.pop()\n",
    "print(\"updated set :\",my_set)\n",
    "print(\"remove element :\",removed_ele)\n",
    "# or\n",
    "import random \n",
    "my_list=list(my_set)\n",
    "\n",
    "random_index=random.randint(0,len(my_list)-1)\n",
    "remove_ele2=my_list.pop(random_index)\n",
    "my_set2=set(my_list)\n",
    "print(\"updated set :\",my_set2)\n",
    "print(\"remove element :\",remove_ele2)\n"
   ]
  },
  {
   "cell_type": "code",
   "execution_count": 107,
   "id": "5d7c5377-583d-4ef5-9904-3eb7d103dedb",
   "metadata": {},
   "outputs": [
    {
     "name": "stdout",
     "output_type": "stream",
     "text": [
      "set after the pop operation {2, 3, 4, 5}\n",
      "poped element 1\n"
     ]
    }
   ],
   "source": [
    "\n",
    "# 17. Pop an element from a set.\n",
    "my_set = {1, 2, 3, 4, 5}\n",
    "pop_ele=my_set.pop()\n",
    "print(\"set after the pop operation\",my_set)\n",
    "print(\"poped element\",pop_ele)\n"
   ]
  },
  {
   "cell_type": "code",
   "execution_count": 108,
   "id": "629d27ca-3f31-4baa-9d37-33a29fd7869a",
   "metadata": {},
   "outputs": [
    {
     "name": "stdout",
     "output_type": "stream",
     "text": [
      "the set contains the common elements\n",
      "the set does not contain the common elements\n",
      "no the set does not contain any common element\n"
     ]
    }
   ],
   "source": [
    "\n",
    "# 18. Check if two sets have no elements in common.\n",
    "set1={1,2,3,4,5}\n",
    "set2={1,2,3,4,56,7,56}\n",
    "common_ele=False\n",
    "for ele in set1:\n",
    "    if ele in set2:\n",
    "        common_ele=True\n",
    "        break\n",
    "if common_ele:\n",
    "    print(\"the set contains the common elements\")\n",
    "else:\n",
    "    print(\"the set does not contain the common elements\")\n",
    "    \n",
    "\n",
    "set3={1,2,3,4,5}\n",
    "set4={54,67,34,45}\n",
    "common_ele2=False\n",
    "for ele in set3:\n",
    "    if ele in set4:\n",
    "        common_ele2=True\n",
    "        break\n",
    "if common_ele2:\n",
    "    print(\"the set contains the common elements\")\n",
    "else:\n",
    "    print(\"the set does not contain the common elements\")\n",
    "\n",
    "#or \n",
    "common_ele3=set1.isdisjoint(set2)\n",
    "if common_ele3:\n",
    "    print(\"yes the set contain the common elements\")\n",
    "else:\n",
    "    print(\"no the set does not contain any common element\")\n",
    "\n"
   ]
  },
  {
   "cell_type": "code",
   "execution_count": 109,
   "id": "39690213-8b08-4c5c-8b7d-48f1e8306eea",
   "metadata": {},
   "outputs": [
    {
     "name": "stdout",
     "output_type": "stream",
     "text": [
      "{3, 4}\n"
     ]
    }
   ],
   "source": [
    "\n",
    "# 19. Find the symmetric difference between two sets.\n",
    "def symmmetric_diff(set1,set2):\n",
    "    set1=list(set1)\n",
    "    set2=list(set2)\n",
    "    symmmetric_diff_set=set()\n",
    "    for ele in set1:\n",
    "        if ele in set2:\n",
    "            symmmetric_diff_set.add(ele)\n",
    "    for ele in set2:\n",
    "        if ele in set1:\n",
    "            symmmetric_diff_set.add(ele)\n",
    "    return symmmetric_diff_set\n",
    "\n",
    "set1 = {1, 2, 3, 4}\n",
    "set2 = {3, 4, 5, 6}\n",
    "\n",
    "result=symmmetric_diff(set1,set2)\n",
    "print(result)\n",
    "\n",
    "\n"
   ]
  },
  {
   "cell_type": "code",
   "execution_count": 110,
   "id": "314ae37d-7539-4e47-8981-2ca995f96fb2",
   "metadata": {},
   "outputs": [
    {
     "name": "stdout",
     "output_type": "stream",
     "text": [
      "here is a set updated from the elements of another set {1, 2, 3, 4, 5}\n",
      "updated set :{3, 4, 5, 6, 8}\n",
      "updated set :  {3, 4, 5, 6, 8}\n"
     ]
    }
   ],
   "source": [
    "\n",
    "# 20. Update a set with elements from another set.\n",
    "set1 = {1, 2, 3}\n",
    "set2 = {3, 4, 5}\n",
    "\n",
    "for i in set2:\n",
    "    set1.add(i)\n",
    "print(\"here is a set updated from the elements of another set\",set1)\n",
    "\n",
    "#or\n",
    "set3={3,4,5}\n",
    "set4={8,6,4}\n",
    "set3.update(set4)\n",
    "print(f'updated set :{set3}')\n",
    "#or\n",
    "set5={3,4,5}\n",
    "set6={8,6,4}\n",
    "set5=set5 | set6\n",
    "print(\"updated set : \",set5)\n"
   ]
  },
  {
   "cell_type": "code",
   "execution_count": 111,
   "id": "3b09685d-3096-46d0-b8df-bb4c694f027c",
   "metadata": {},
   "outputs": [
    {
     "name": "stdout",
     "output_type": "stream",
     "text": [
      "{2, 3, 5, 7}\n"
     ]
    }
   ],
   "source": [
    "\n",
    "# 21. Create a set of the first 5 prime numbers.\n",
    "def prime(n):\n",
    "    if n<=1:\n",
    "        return False\n",
    "    if n==2 or n==3:\n",
    "        return True\n",
    "    for i in range(2,n):\n",
    "        if n%i==0:\n",
    "            return False\n",
    "    return True\n",
    "set_prime=set()\n",
    "for n in range(2,10):\n",
    "    if prime(n):\n",
    "        set_prime.add(n)\n",
    "print(set_prime)\n"
   ]
  },
  {
   "cell_type": "code",
   "execution_count": 112,
   "id": "1221df3d-54ab-4f82-8a28-b8b1e530170d",
   "metadata": {},
   "outputs": [
    {
     "name": "stdout",
     "output_type": "stream",
     "text": [
      "no the sets are not identical\n",
      "frozenset: frozenset({'dev', 'rane', 'suraj', 'karan'})\n"
     ]
    }
   ],
   "source": [
    "\n",
    "\n",
    "# 22. Check if two sets are identical.\n",
    "set1={1,2,3,4,5,6}\n",
    "set2={1,2,3,4,5,6,7}\n",
    "if set1==set2:\n",
    "    print(\"yes this sets are identical\")\n",
    "else:\n",
    "    print(\"no the sets are not identical\")\n",
    "\n",
    "\n",
    "# 23. Create a frozen set.\n",
    "my_set={'karan','dev','rane','suraj'}\n",
    "frozen_set=frozenset(my_set)\n",
    "print(\"frozenset:\",frozen_set)"
   ]
  },
  {
   "cell_type": "code",
   "execution_count": 113,
   "id": "0552210c-1df7-4c2d-bd54-96049645a4f5",
   "metadata": {},
   "outputs": [
    {
     "name": "stdout",
     "output_type": "stream",
     "text": [
      "yes the set are disjoint\n"
     ]
    }
   ],
   "source": [
    "\n",
    "# 24. Check if a set is disjoint with another set.\n",
    "set1 = {1, 2, 3}\n",
    "set2 = {4, 5, 6}\n",
    "\n",
    "if set1.isdisjoint(set2):\n",
    "    print(\"yes the set are disjoint\")\n",
    "else:\n",
    "    print(\"no the set are not disjoint\")"
   ]
  },
  {
   "cell_type": "code",
   "execution_count": 114,
   "id": "f688319b-86ff-426c-8efd-30cfd956c09f",
   "metadata": {},
   "outputs": [
    {
     "name": "stdout",
     "output_type": "stream",
     "text": [
      "{1, 4, 9, 16, 25}\n"
     ]
    }
   ],
   "source": [
    "\n",
    "# 25. Create a set of squares of numbers from 1 to 5.\n",
    "set_square=set()\n",
    "for  i in range(1,6):\n",
    "    set_square.add(i**2)\n",
    "print(set_square)\n"
   ]
  },
  {
   "cell_type": "code",
   "execution_count": 115,
   "id": "9b4a2c2a-014b-48b8-a03e-5e92c9bd5009",
   "metadata": {},
   "outputs": [
    {
     "name": "stdout",
     "output_type": "stream",
     "text": [
      "{2, 34, 4, 6, 8, 10, 12, 14, 16, 54}\n"
     ]
    }
   ],
   "source": [
    "\n",
    "# 26. Filter out all even numbers from a set.\n",
    "def even_number(set1):\n",
    "    eve_set=set()\n",
    "    for i in set1:\n",
    "        if i%2==0:\n",
    "            eve_set.add(i)\n",
    "    return eve_set\n",
    "\n",
    "my_set={1,2,3,4,5,6,7,8,9,10,11,12,14,15,16,12,3,34,45,34,2,3,4,6,54,345,43,6,635}\n",
    "even_num_set=even_number(my_set)\n",
    "print(even_num_set)\n"
   ]
  },
  {
   "cell_type": "code",
   "execution_count": 116,
   "id": "96b14d56-3cfc-4460-acbb-cf26920be9eb",
   "metadata": {},
   "outputs": [
    {
     "name": "stdout",
     "output_type": "stream",
     "text": [
      "{2, 4, 6, 8, 10}\n"
     ]
    }
   ],
   "source": [
    "\n",
    "# 27. Multiply all elements in a set by 2.\n",
    "set1={1,2,3,4,5}\n",
    "set2=set()\n",
    "for i in set1:\n",
    "    set2.add(i*2)\n",
    "print(set2)\n"
   ]
  },
  {
   "cell_type": "code",
   "execution_count": 117,
   "id": "90d6e74d-7c1f-49e9-8293-9ab940e40a03",
   "metadata": {},
   "outputs": [
    {
     "name": "stdout",
     "output_type": "stream",
     "text": [
      "{34, 8, 41, 13, 29, 86, 27, 93, 95, 63}\n"
     ]
    }
   ],
   "source": [
    "\n",
    "\n",
    "# 28. Create a set of random numbers.\n",
    "import random\n",
    "\n",
    "min_val=1\n",
    "max_val=100\n",
    "size=10\n",
    "random_int_set=set()\n",
    "for i in range(size):\n",
    "    random_num=random.randint(min_val,max_val)\n",
    "    random_int_set.add(random_num)\n",
    "print(random_int_set)\n"
   ]
  },
  {
   "cell_type": "code",
   "execution_count": 118,
   "id": "acbf4652-46cb-465f-9714-36544db8bc9f",
   "metadata": {},
   "outputs": [
    {
     "name": "stdout",
     "output_type": "stream",
     "text": [
      "the set is empty\n"
     ]
    }
   ],
   "source": [
    "\n",
    "# 29. Check if a set is empty.\n",
    "my_set=set()\n",
    "length=len(my_set)\n",
    "if length==0:\n",
    "    print(\"the set is empty\")\n",
    "else:\n",
    "    print(\"the set is not empty\")\n",
    "\n",
    "\n"
   ]
  },
  {
   "cell_type": "code",
   "execution_count": 119,
   "id": "5474f650-6ca5-454e-a1c0-f6a648c5a98b",
   "metadata": {},
   "outputs": [
    {
     "name": "stdout",
     "output_type": "stream",
     "text": [
      "nested_set:\n",
      "{1, 2, 3}\n",
      "{4, 5, 6}\n",
      "{8, 9, 7}\n"
     ]
    }
   ],
   "source": [
    "\n",
    "\n",
    "# 30. Create a nested set (hint: use frozenset).\n",
    "set1 = {1, 2, 3}\n",
    "set2 = {4, 5, 6}\n",
    "set3 = {7, 8, 9}\n",
    "\n",
    "nested_set=set1,set2,set3\n",
    "print(\"nested_set:\")\n",
    "for subset in nested_set:\n",
    "    print(subset)\n"
   ]
  },
  {
   "cell_type": "code",
   "execution_count": 120,
   "id": "59850e55-5a29-482a-98dd-4d0347013966",
   "metadata": {},
   "outputs": [
    {
     "name": "stdout",
     "output_type": "stream",
     "text": [
      "{1, 2, 4, 5}\n",
      "sets are not equal\n",
      "false\n",
      "not a subset\n"
     ]
    }
   ],
   "source": [
    "\n",
    "\n",
    "# 31. Remove an element from a set using the discard method.\n",
    "my_set = {1, 2, 3, 4, 5}\n",
    "discard_ele=3\n",
    "my_set.discard(discard_ele)\n",
    "print(my_set)\n",
    "\n",
    "\n",
    "# 32. Compare two sets.\n",
    "set1 = {1, 2, 3, 4, 5}\n",
    "set2={2,4,1,5,6}\n",
    "if set1==set2:\n",
    "    print(\"both sets are equal\")\n",
    "else:\n",
    "    print(\"sets are not equal\")\n",
    "\n",
    "compare1=set1.isdisjoint(set2)\n",
    "if compare1 :\n",
    "    print(\"true\")\n",
    "else:\n",
    "    print(\"false\")\n",
    "\n",
    "compare2=set2.issubset(set1)\n",
    "if compare2:\n",
    "    print(\"set2 is subset of set1\")\n",
    "else:\n",
    "    print(\"not a subset\")\n"
   ]
  },
  {
   "cell_type": "code",
   "execution_count": 121,
   "id": "02bc2555-9f46-4a12-a157-eedf48f6d85f",
   "metadata": {},
   "outputs": [
    {
     "name": "stdout",
     "output_type": "stream",
     "text": [
      "{'hello this is karan'}\n",
      "{' ', 'k', 't', 'l', 'o', 'n', 'e', 'i', 'a', 's', 'h', 'r'}\n",
      "{' ', 'f', 'e', 'b', 'w', 'y', 'a', 's', 'r', 'u'}\n"
     ]
    }
   ],
   "source": [
    "\n",
    "# 33. Create a set from a string.\n",
    "def set_converter(string):\n",
    "    word=''\n",
    "    set1=set()\n",
    "    for iteams in string:\n",
    "        if iteams!='':\n",
    "            word+=iteams\n",
    "        else:\n",
    "            set1.add(word)\n",
    "            word=''\n",
    "    if word:\n",
    "        set1.add(word)\n",
    "    return set1\n",
    "\n",
    "\n",
    "string=\"hello this is karan\"\n",
    "print(set_converter(string))\n",
    "\n",
    "# or--doint it directly\n",
    "string2=\"hello this is karan\"\n",
    "print(set(string2))\n",
    "# or\n",
    "string3=\"subway suffer\"\n",
    "set3=set()\n",
    "for char in string3:\n",
    "    set3.add(char)\n",
    "print(set3)"
   ]
  },
  {
   "cell_type": "code",
   "execution_count": 122,
   "id": "9aaead19-e72c-4ecf-a2b4-71c9414eb388",
   "metadata": {},
   "outputs": [
    {
     "name": "stdout",
     "output_type": "stream",
     "text": [
      "good is karan \n"
     ]
    }
   ],
   "source": [
    "\n",
    "# 34. Convert a set of strings to a set of integers.\n",
    "set_string={'karan','is','good'}\n",
    "str1=''\n",
    "for iteams in set_string:\n",
    "    str1+=iteams+' '\n",
    "print(str1)"
   ]
  },
  {
   "cell_type": "code",
   "execution_count": 123,
   "id": "692e8101-a13b-4867-a8e4-3356be5220e3",
   "metadata": {},
   "outputs": [
    {
     "name": "stdout",
     "output_type": "stream",
     "text": [
      "{'1', '4', '5', '3', '2'}\n"
     ]
    }
   ],
   "source": [
    "\n",
    "# 35. Convert a set of integers to a set of strings.\n",
    "my_set = {1, 2, 3, 4, 5}\n",
    "set_str=set()\n",
    "for i in my_set:\n",
    "    set_str.add(str(i))\n",
    "print(set_str)\n"
   ]
  },
  {
   "cell_type": "code",
   "execution_count": 124,
   "id": "bd1a7896-00ff-48b5-8005-11e3bf97e78e",
   "metadata": {},
   "outputs": [
    {
     "name": "stdout",
     "output_type": "stream",
     "text": [
      "{1, 2, 3}\n",
      "{1, 2, 3}\n"
     ]
    }
   ],
   "source": [
    "\n",
    "# 36. Create a set from a tuple.\n",
    "tuple1=(1,2,3)\n",
    "set_tuple=set()\n",
    "for i in tuple1:\n",
    "    set_tuple.add(i)\n",
    "print(set_tuple)\n",
    "\n",
    "# or\n",
    "set_tuple2=set(tuple1)\n",
    "print(set_tuple2)\n"
   ]
  },
  {
   "cell_type": "code",
   "execution_count": 125,
   "id": "15bdba33-5318-4f10-ac0c-3e075cdc7f77",
   "metadata": {},
   "outputs": [
    {
     "name": "stdout",
     "output_type": "stream",
     "text": [
      "(1, 2, 3)\n"
     ]
    }
   ],
   "source": [
    "\n",
    "# 37. Convert a set to a tuple.\n",
    "set1={1, 2, 3}\n",
    "tuple1=()\n",
    "for i in set1:\n",
    "    tuple1+=(i,)\n",
    "print(tuple1)"
   ]
  },
  {
   "cell_type": "code",
   "execution_count": 126,
   "id": "481559af-8a2b-4144-8c3c-9cabec13439e",
   "metadata": {},
   "outputs": [
    {
     "name": "stdout",
     "output_type": "stream",
     "text": [
      "max value of set :635\n",
      "635\n"
     ]
    }
   ],
   "source": [
    "\n",
    "# 38. Find the maximum value in a set.\n",
    "my_set={1,2,3,4,5,6,7,8,9,10,11,12,14,15,16,12,3,34,45,34,2,3,4,6,54,345,43,6,635}\n",
    "maxi=0\n",
    "for i in my_set:\n",
    "    if i>maxi:\n",
    "        maxi=i\n",
    "print(f'max value of set :{maxi}')\n",
    "# or\n",
    "maxi2=max(my_set)\n",
    "print(maxi2)"
   ]
  },
  {
   "cell_type": "code",
   "execution_count": 127,
   "id": "76b8c41f-d05f-42e8-b2a3-2e416e02e886",
   "metadata": {},
   "outputs": [
    {
     "name": "stdout",
     "output_type": "stream",
     "text": [
      "here is the min element of my_set2: 1\n",
      "1\n",
      "here is the min element of my_set2:76547\n",
      "76547\n"
     ]
    }
   ],
   "source": [
    "\n",
    "# 39. Find the minimum value in a set.\n",
    "my_set={2,3,4,5,6,7,8,9,10,11,12,14,15,16,1,12,3,34,45,34,2,3,4,6,54,345,43,6,635}\n",
    "mini=next(iter(my_set))\n",
    "for i in my_set:\n",
    "    if i<mini:\n",
    "        mini=i\n",
    "print(\"here is the min element of my_set2:\",mini)\n",
    "my_set_min=min(my_set)\n",
    "print(my_set_min)\n",
    "\n",
    "my_set2={52135123,623462378,7812378613,73465673498,712365,76547,547568578,45563456345234}\n",
    "mini2=float('inf')\n",
    "for k in my_set2:\n",
    "    if k<mini2:\n",
    "        mini2=k\n",
    "print(f'here is the min element of my_set2:{mini2}')\n",
    "my_set2_min=min(my_set2)\n",
    "print(my_set2_min)\n"
   ]
  },
  {
   "cell_type": "code",
   "execution_count": 128,
   "id": "1488a98b-764e-4131-8156-83d4ba9a9968",
   "metadata": {},
   "outputs": [
    {
     "name": "stdin",
     "output_type": "stream",
     "text": [
      "enter ele to insert in set karan\n",
      "enter ele to insert in set dev\n"
     ]
    },
    {
     "name": "stdout",
     "output_type": "stream",
     "text": [
      "{'dev', 'karan'}\n"
     ]
    }
   ],
   "source": [
    "\n",
    "# 40. Create a set from user input.\n",
    "my_set=set()\n",
    "for i in range(1,3):\n",
    "    ele=input(\"enter ele to insert in set\")\n",
    "    my_set.add(ele)\n",
    "print(my_set)\n",
    "\n"
   ]
  },
  {
   "cell_type": "code",
   "execution_count": 129,
   "id": "75260979-5c3f-42d1-883c-6c396b1b000d",
   "metadata": {},
   "outputs": [
    {
     "name": "stdout",
     "output_type": "stream",
     "text": [
      "True\n"
     ]
    }
   ],
   "source": [
    "\n",
    "# 41. Check if the intersection of two sets is empty.\n",
    "def intersection_empty(set1,set2):\n",
    "    return not bool (set1.intersection(set2))\n",
    "\n",
    "\n",
    "set1 = {1, 2, 3}\n",
    "set2 = {4, 5, 6}\n",
    "result=intersection_empty(set1,set2)\n",
    "print(result)\n"
   ]
  },
  {
   "cell_type": "code",
   "execution_count": 130,
   "id": "82aefc62-7931-4452-bbf0-c7edf3bf8a79",
   "metadata": {},
   "outputs": [
    {
     "name": "stdout",
     "output_type": "stream",
     "text": [
      "{0, 1, 2, 3, 5}\n"
     ]
    }
   ],
   "source": [
    "\n",
    "# 42. Create a set of the first 5 Fibonacci numbers.\n",
    "set_fib = set()\n",
    "first_term = 0\n",
    "second_term = 1\n",
    "n = 5\n",
    "\n",
    "for i in range(n + 1):\n",
    "    set_fib.add(first_term)\n",
    "    next_term = first_term + second_term  # Corrected assignment\n",
    "    first_term = second_term\n",
    "    second_term = next_term\n",
    "\n",
    "print(set_fib)\n"
   ]
  },
  {
   "cell_type": "code",
   "execution_count": 131,
   "id": "b49dae35-138e-4b0b-8356-211a97cc069e",
   "metadata": {},
   "outputs": [
    {
     "name": "stdout",
     "output_type": "stream",
     "text": [
      "using set the dublicates is removed [1, 2, 3, 4, 5, 6, 34, 12]\n"
     ]
    }
   ],
   "source": [
    "\n",
    "# 43. Remove duplicates from a list using sets.\n",
    "List_contain_dublicate=[1,2,3,4,1,2,4,5,6,6,4,3,2,12,34]\n",
    "my_list_anti_dublicate=list(set(List_contain_dublicate))\n",
    "print(\"using set the dublicates is removed\",my_list_anti_dublicate)\n",
    "\n"
   ]
  },
  {
   "cell_type": "code",
   "execution_count": 132,
   "id": "3becba3b-3a5f-4e46-812f-d76367fc177c",
   "metadata": {},
   "outputs": [
    {
     "name": "stdout",
     "output_type": "stream",
     "text": [
      "The set having same element\n"
     ]
    }
   ],
   "source": [
    "\n",
    "# 44. Check if two sets have the same elements, regardless of their count.\n",
    "def same_ele(set1,set2):\n",
    "    if len(set1)!=len(set2):\n",
    "        return False\n",
    "    set_copy1=set(set1)\n",
    "    set_copy2=set(set2)\n",
    "\n",
    "    sorted_set1=sorted(set_copy1)\n",
    "    sorted_set2=sorted(set_copy2)\n",
    "\n",
    "    if sorted_set1==sorted_set2:\n",
    "        return True\n",
    "    else:\n",
    "        return False\n",
    "\n",
    "\n",
    "set1 = {1, 2, 3, 3, 4}\n",
    "set2 = {4, 3, 2, 1}\n",
    "\n",
    "if same_ele(set1,set2):\n",
    "    print(\"The set having same element\")\n",
    "else:\n",
    "    print(\"no the set does not contain the same element\")\n",
    "    \n",
    "\n"
   ]
  },
  {
   "cell_type": "code",
   "execution_count": 133,
   "id": "e47104a5-79b8-4507-95d4-7175d3e04af4",
   "metadata": {},
   "outputs": [
    {
     "name": "stdin",
     "output_type": "stream",
     "text": [
      "enter the val of n : 5\n"
     ]
    },
    {
     "name": "stdout",
     "output_type": "stream",
     "text": [
      "set of the first `n` powers of 2 : {1, 2, 4, 8, 16}\n"
     ]
    }
   ],
   "source": [
    "\n",
    "\n",
    "# 45. Create a set of the first `n` powers of 2.\n",
    "\n",
    "set_pow_2=set()\n",
    "n=int(input(\"enter the val of n :\"))\n",
    "for i in range(n):\n",
    "    set_pow_2.add(2**i)\n",
    "print(\"set of the first `n` powers of 2 :\",set_pow_2)\n",
    "\n"
   ]
  },
  {
   "cell_type": "code",
   "execution_count": 134,
   "id": "1054c988-da35-4818-a9a4-47ed6507822e",
   "metadata": {},
   "outputs": [
    {
     "name": "stdout",
     "output_type": "stream",
     "text": [
      "{3, 4, 5}\n"
     ]
    },
    {
     "name": "stdin",
     "output_type": "stream",
     "text": [
      "enter the range of traingular number you want 10\n"
     ]
    },
    {
     "name": "stdout",
     "output_type": "stream",
     "text": [
      "Here is a set of traingular number: {1, 3, 36, 6, 10, 45, 15, 21, 55, 28}\n"
     ]
    }
   ],
   "source": [
    "\n",
    "# 46. Find the common elements between a set and a list.\n",
    "my_set = {1, 2, 3, 4, 5}\n",
    "my_list = [3, 4, 5, 6, 7]\n",
    "\n",
    "commom_ele=my_set.intersection(my_list)\n",
    "print(commom_ele)\n",
    "\n",
    "\n",
    "# 47. Create a set of the first `n` triangular numbers.\n",
    "def traingular_number_creater(n):\n",
    "    traingular_num_set=set()\n",
    "    for i in range(1,n+1):\n",
    "        traingular_number=i*(i+1)//2\n",
    "        traingular_num_set.add(traingular_number)\n",
    "    return traingular_num_set\n",
    "\n",
    "n=int(input(\"enter the range of traingular number you want\"))\n",
    "traingular_num=traingular_number_creater(n)\n",
    "print('Here is a set of traingular number:',traingular_num)\n",
    "    \n"
   ]
  },
  {
   "cell_type": "code",
   "execution_count": 135,
   "id": "2528bc15-049f-4ea1-9e72-ab77eb2177c7",
   "metadata": {},
   "outputs": [
    {
     "name": "stdout",
     "output_type": "stream",
     "text": [
      "set2 is a subset of set1\n"
     ]
    }
   ],
   "source": [
    "\n",
    "# 48. Check if a set contains another set as a subset.\n",
    "set1 = {1, 2, 3, 4, 5}\n",
    "set2 = {2, 3}\n",
    "\n",
    "if set2.issubset(set1):\n",
    "    print(\"set2 is a subset of set1\")\n",
    "else:\n",
    "    print(\"no set2 is not a subset of set 1\")\n"
   ]
  },
  {
   "cell_type": "code",
   "execution_count": 136,
   "id": "21227f7a-3715-41a0-9b75-0b4909daa394",
   "metadata": {},
   "outputs": [
    {
     "name": "stdout",
     "output_type": "stream",
     "text": [
      "{0, 1}\n"
     ]
    }
   ],
   "source": [
    "\n",
    "# 49. Create a set of alternating 1s and 0s of length `n`.\n",
    "def alternating_set(n):\n",
    "    alternating_set1=set()\n",
    "    for i in range(n):\n",
    "        alternating_set1.add(i%2)\n",
    "\n",
    "    return alternating_set1\n",
    "\n",
    "n=10\n",
    "result=alternating_set(n)\n",
    "print(result)    "
   ]
  },
  {
   "cell_type": "code",
   "execution_count": 137,
   "id": "f79817de-4127-4a05-9e17-26609e8bbc1d",
   "metadata": {},
   "outputs": [
    {
     "name": "stdout",
     "output_type": "stream",
     "text": [
      "Here is your merged set : {1, 2, 3, 4, 5, 6, 7}\n"
     ]
    }
   ],
   "source": [
    "\n",
    "# 50. Merge multiple sets into one.\n",
    "def merge_set(*sets):\n",
    "    mergeset=set()\n",
    "    for s in sets :\n",
    "        mergeset=mergeset.union(s)\n",
    "    return mergeset\n",
    "\n",
    "\n",
    "set1 = {1, 2, 3}\n",
    "set2 = {3, 4, 5}\n",
    "set3 = {5, 6, 7}\n",
    "\n",
    "result=merge_set(set1,set2,set3)\n",
    "print(\"Here is your merged set :\", result)"
   ]
  }
 ],
 "metadata": {
  "kernelspec": {
   "display_name": "Python 3 (ipykernel)",
   "language": "python",
   "name": "python3"
  },
  "language_info": {
   "codemirror_mode": {
    "name": "ipython",
    "version": 3
   },
   "file_extension": ".py",
   "mimetype": "text/x-python",
   "name": "python",
   "nbconvert_exporter": "python",
   "pygments_lexer": "ipython3",
   "version": "3.10.8"
  }
 },
 "nbformat": 4,
 "nbformat_minor": 5
}
